{
 "cells": [
  {
   "cell_type": "code",
   "execution_count": 1,
   "id": "initial_id",
   "metadata": {
    "collapsed": true,
    "ExecuteTime": {
     "end_time": "2023-11-29T03:26:46.158775900Z",
     "start_time": "2023-11-29T03:26:46.139777100Z"
    }
   },
   "outputs": [],
   "source": [
    "# import pandas as pd\n",
    "# file_path = './dataset/users.csv'\n",
    "# df = pd.read_csv(file_path, nrows=10000)\n",
    "# new_file_path = './dataset/users_DEMO.csv'\n",
    "# df.to_csv(new_file_path, index=False)"
   ]
  },
  {
   "cell_type": "code",
   "execution_count": 2,
   "outputs": [],
   "source": [
    "import warnings\n",
    "warnings.filterwarnings('ignore')\n",
    "\n",
    "import pandas as pd\n",
    "import matplotlib.pyplot as plt\n",
    "import seaborn as sns\n",
    "import numpy as np\n",
    "import scipy.stats as st\n",
    "import missingno as msno"
   ],
   "metadata": {
    "collapsed": false,
    "ExecuteTime": {
     "end_time": "2023-11-29T03:26:46.186776100Z",
     "start_time": "2023-11-29T03:26:46.156776900Z"
    }
   },
   "id": "6b6e671145e54fd2"
  },
  {
   "cell_type": "code",
   "execution_count": 15,
   "outputs": [],
   "source": [
    "def reduce_mem_usage(df):\n",
    "    \"\"\" iterate through all the columns of a dataframe and modify the data type\n",
    "        to reduce memory usage.        \n",
    "    \"\"\"\n",
    "    start_mem = df.memory_usage().sum() \n",
    "    print('Memory usage of dataframe is {:.2f} B'.format(start_mem))\n",
    "    \n",
    "    for col in df.columns:\n",
    "        col_type = df[col].dtype\n",
    "        \n",
    "        if col_type != object:\n",
    "            c_min = df[col].min()\n",
    "            c_max = df[col].max()\n",
    "            if str(col_type)[:3] == 'int':\n",
    "                if c_min > np.iinfo(np.int8).min and c_max < np.iinfo(np.int8).max:\n",
    "                    df[col] = df[col].astype(np.int8)\n",
    "                elif c_min > np.iinfo(np.int16).min and c_max < np.iinfo(np.int16).max:\n",
    "                    df[col] = df[col].astype(np.int16)\n",
    "                elif c_min > np.iinfo(np.int32).min and c_max < np.iinfo(np.int32).max:\n",
    "                    df[col] = df[col].astype(np.int32)\n",
    "                elif c_min > np.iinfo(np.int64).min and c_max < np.iinfo(np.int64).max:\n",
    "                    df[col] = df[col].astype(np.int64)  \n",
    "            else:\n",
    "                if c_min > np.finfo(np.float16).min and c_max < np.finfo(np.float16).max:\n",
    "                    df[col] = df[col].astype(np.float16)\n",
    "                elif c_min > np.finfo(np.float32).min and c_max < np.finfo(np.float32).max:\n",
    "                    df[col] = df[col].astype(np.float32)\n",
    "                else:\n",
    "                    df[col] = df[col].astype(np.float64)\n",
    "        else:\n",
    "            df[col] = df[col].astype('category')\n",
    "\n",
    "    end_mem = df.memory_usage().sum() \n",
    "    print('Memory usage after optimization is: {:.2f} B'.format(end_mem))\n",
    "    print('Decreased by {:.1f}%'.format(100 * (start_mem - end_mem) / start_mem))\n",
    "    return df"
   ],
   "metadata": {
    "collapsed": false,
    "ExecuteTime": {
     "end_time": "2023-11-29T03:29:18.452194900Z",
     "start_time": "2023-11-29T03:29:18.433195800Z"
    }
   },
   "id": "cf8958707024abcc"
  },
  {
   "cell_type": "code",
   "execution_count": 16,
   "outputs": [
    {
     "name": "stdout",
     "output_type": "stream",
     "text": [
      "Memory usage of dataframe is 2186183885.00 B\n",
      "Memory usage after optimization is: 920666280.00 B\n",
      "Decreased by 57.9%\n",
      "Memory usage of dataframe is 330882800.00 B\n",
      "Memory usage after optimization is: 110294352.00 B\n",
      "Decreased by 66.7%\n"
     ]
    },
    {
     "data": {
      "text/plain": "     app_id                                              title date_release  \\\n0     13500                  Prince of Persia: Warrior Within™   2008-11-21   \n1     22364                            BRINK: Agents of Change   2011-08-03   \n2    113020                       Monaco: What's Yours Is Mine   2013-04-24   \n3    226560                                 Escape Dead Island   2014-11-18   \n4    249050                            Dungeon of the ENDLESS™   2014-10-27   \n5    250180                                       METAL SLUG 3   2015-09-14   \n6    253980                                            Enclave   2013-10-04   \n7    271850  Men of War: Assault Squad 2 - Deluxe Edition u...   2014-05-16   \n8    282900                  Hyperdimension Neptunia Re;Birth1   2015-01-29   \n9     19810                               The Sum of All Fears   2008-10-10   \n10    15270                                         Cold Fear™   2008-05-13   \n11    21130                      LEGO® Harry Potter: Years 1-4   2010-06-25   \n12    22130                          Hearts of Iron 2 Complete   2009-01-23   \n13    29180                                              Osmos   2009-08-18   \n14    32750                                         Comanche 4   2009-06-18   \n15   241620                                         Inquisitor   2013-08-01   \n16   408520                                               FORM   2017-06-01   \n17   244910                                           Homesick   2015-05-28   \n18   245950  Borderlands 2: Headhunter 4: Wedding Day Massacre   2014-02-11   \n19   250460                                 Bridge Constructor   2013-10-16   \n20   278890                                             Angvik   2014-02-24   \n21   305181           Sniper Elite 3 - Camouflage Weapons Pack   2014-06-27   \n22   312200                                              Chasm   2018-07-30   \n23   321290                Dandelion - Wishes brought to you -   2014-09-29   \n24   329640                                         Eradicator   2014-11-06   \n25   367670                               Controller Companion   2015-05-04   \n26   380810  Herald: An Interactive Period Drama - Book I & II   2017-02-22   \n27   392330                        Take Command - 2nd Manassas   2016-10-28   \n28   437000                           GUILTY GEAR 2 -OVERTURE-   2016-03-31   \n29   445420  Aselia the Eternal -The Spirit of Eternity Sword-   2016-04-29   \n30   458790      The House in Fata Morgana Original Soundtrack   2016-05-13   \n31   462280          Offworld Trading Company - Soundtrack DLC   2016-04-28   \n32  1872790                                          Luckitown   2022-01-19   \n33   371970                                             Barony   2015-06-23   \n34   222660                                        Retro/Grade   2013-03-20   \n35   237850                                 Dreamfall Chapters   2017-07-21   \n36   268220                                           Meltdown   2014-06-05   \n37   274270                                         NOT A HERO   2016-07-08   \n38   281450                        Disciples Sacred Lands Gold   2014-10-07   \n39  1259750                                Tropico 6 - Spitter   2020-04-23   \n40   296870                                     Dreaming Sarah   2015-03-12   \n41   330180                                        Pix the Cat   2015-01-29   \n42   351920                                   Crazy Machines 3   2016-10-18   \n43   397210                                Kanji Training Game   2015-09-23   \n44   402130                          FlatOut 4: Total Insanity   2017-04-04   \n45   402710                                   Osiris: New Dawn   2023-01-18   \n46   410970                                  Master of Orion 1   2016-08-25   \n47   415200                                 Motorsport Manager   2016-11-09   \n48   410770                                      Roads of Rome   2015-10-16   \n49   254820                           Ground Control Anthology   2015-07-08   \n\n      win    mac  linux           rating  positive_ratio  user_reviews  \\\n0    True  False  False    Very Positive              84          2199   \n1    True  False  False         Positive              85            21   \n2    True   True   True    Very Positive              92          3722   \n3    True  False  False            Mixed              61           873   \n4    True   True  False    Very Positive              88          8784   \n5    True  False  False    Very Positive              90          5579   \n6    True   True   True  Mostly Positive              75          1608   \n7    True  False  False            Mixed              61           199   \n8    True  False  False    Very Positive              94          9686   \n9    True  False  False  Mostly Positive              75            33   \n10   True  False  False    Very Positive              85           800   \n11   True  False  False    Very Positive              85          5169   \n12   True  False  False    Very Positive              85           462   \n13   True   True   True    Very Positive              88           532   \n14   True  False  False    Very Positive              90           222   \n15   True  False  False  Mostly Positive              70           390   \n16   True  False  False    Very Positive              91           934   \n17   True  False  False  Mostly Positive              77          1139   \n18   True   True   True    Very Positive              84           294   \n19   True   True   True  Mostly Positive              77           716   \n20   True   True  False    Very Positive              88          1986   \n21   True  False  False    Very Positive              95            74   \n22   True   True   True  Mostly Positive              73          1065   \n23   True   True  False    Very Positive              85           589   \n24   True   True   True    Very Positive              88            60   \n25   True  False  False    Very Positive              90          2323   \n26   True   True   True    Very Positive              89            97   \n27   True  False  False    Very Positive              93            62   \n28   True  False  False  Mostly Positive              71           214   \n29   True  False  False    Very Positive              82            63   \n30  False  False  False         Positive             100            32   \n31   True   True  False         Positive              80            10   \n32   True   True  False    Very Positive              86           163   \n33   True   True   True    Very Positive              92          3713   \n34   True  False  False    Very Positive              85           207   \n35   True   True   True    Very Positive              82          2976   \n36   True   True   True    Very Positive              86           493   \n37   True   True   True    Very Positive              86          1563   \n38   True  False  False    Very Positive              85           270   \n39   True   True   True            Mixed              58            36   \n40   True  False   True    Very Positive              92          2010   \n41   True   True   True    Very Positive              87           170   \n42   True  False  False    Very Positive              94          6817   \n43   True  False  False  Mostly Positive              75            72   \n44   True  False  False            Mixed              52          1489   \n45   True  False  False            Mixed              57         12322   \n46   True   True   True    Very Positive              90           279   \n47   True   True   True    Very Positive              91          9753   \n48   True  False  False    Very Positive              85            61   \n49   True  False  False    Very Positive              87           141   \n\n    price_final  price_original  discount  steam_deck  \n0          9.99            9.99       0.0        True  \n1          2.99            2.99       0.0        True  \n2         14.99           14.99       0.0        True  \n3         14.99           14.99       0.0        True  \n4         11.99           11.99       0.0        True  \n5          7.99            7.99       0.0        True  \n6          4.99            4.99       0.0        True  \n7          6.99            6.99       0.0        True  \n8         14.99           14.99       0.0        True  \n9          9.99            9.99       0.0        True  \n10         9.99            9.99       0.0        True  \n11        19.99           19.99       0.0        True  \n12        14.99           14.99       0.0        True  \n13         9.99            9.99       0.0        True  \n14         9.99            9.99       0.0        True  \n15         9.99            9.99       0.0        True  \n16        14.99           14.99       0.0        True  \n17        14.99           14.99       0.0        True  \n18         0.89            2.99      70.0        True  \n19         2.39           19.99      88.0        True  \n20         2.99            2.99       0.0        True  \n21         3.99            3.99       0.0        True  \n22        19.99           19.99       0.0        True  \n23        29.99           29.99       0.0        True  \n24         6.99            6.99       0.0        True  \n25         2.99            2.99       0.0        True  \n26         9.99            9.99       0.0        True  \n27         9.99            9.99       0.0        True  \n28        19.99           19.99       0.0        True  \n29        14.99           14.99       0.0        True  \n30        11.99           11.99       0.0        True  \n31         9.99            9.99       0.0        True  \n32         4.99            4.99       0.0        True  \n33        20.00            0.00       0.0        True  \n34         9.99            9.99       0.0        True  \n35        24.99           24.99       0.0        True  \n36         6.99            6.99       0.0        True  \n37        19.99           19.99       0.0        True  \n38         7.99            7.99       0.0        True  \n39         9.99            9.99       0.0        True  \n40         5.99            5.99       0.0        True  \n41         4.99            4.99       0.0        True  \n42         9.99            9.99       0.0        True  \n43         4.99            4.99       0.0        True  \n44        29.99           29.99       0.0        True  \n45        19.99           19.99       0.0        True  \n46         0.89            5.99      85.0        True  \n47        19.99           19.99       0.0        True  \n48         3.99            3.99       0.0        True  \n49         4.99            4.99       0.0        True  ",
      "text/html": "<div>\n<style scoped>\n    .dataframe tbody tr th:only-of-type {\n        vertical-align: middle;\n    }\n\n    .dataframe tbody tr th {\n        vertical-align: top;\n    }\n\n    .dataframe thead th {\n        text-align: right;\n    }\n</style>\n<table border=\"1\" class=\"dataframe\">\n  <thead>\n    <tr style=\"text-align: right;\">\n      <th></th>\n      <th>app_id</th>\n      <th>title</th>\n      <th>date_release</th>\n      <th>win</th>\n      <th>mac</th>\n      <th>linux</th>\n      <th>rating</th>\n      <th>positive_ratio</th>\n      <th>user_reviews</th>\n      <th>price_final</th>\n      <th>price_original</th>\n      <th>discount</th>\n      <th>steam_deck</th>\n    </tr>\n  </thead>\n  <tbody>\n    <tr>\n      <th>0</th>\n      <td>13500</td>\n      <td>Prince of Persia: Warrior Within™</td>\n      <td>2008-11-21</td>\n      <td>True</td>\n      <td>False</td>\n      <td>False</td>\n      <td>Very Positive</td>\n      <td>84</td>\n      <td>2199</td>\n      <td>9.99</td>\n      <td>9.99</td>\n      <td>0.0</td>\n      <td>True</td>\n    </tr>\n    <tr>\n      <th>1</th>\n      <td>22364</td>\n      <td>BRINK: Agents of Change</td>\n      <td>2011-08-03</td>\n      <td>True</td>\n      <td>False</td>\n      <td>False</td>\n      <td>Positive</td>\n      <td>85</td>\n      <td>21</td>\n      <td>2.99</td>\n      <td>2.99</td>\n      <td>0.0</td>\n      <td>True</td>\n    </tr>\n    <tr>\n      <th>2</th>\n      <td>113020</td>\n      <td>Monaco: What's Yours Is Mine</td>\n      <td>2013-04-24</td>\n      <td>True</td>\n      <td>True</td>\n      <td>True</td>\n      <td>Very Positive</td>\n      <td>92</td>\n      <td>3722</td>\n      <td>14.99</td>\n      <td>14.99</td>\n      <td>0.0</td>\n      <td>True</td>\n    </tr>\n    <tr>\n      <th>3</th>\n      <td>226560</td>\n      <td>Escape Dead Island</td>\n      <td>2014-11-18</td>\n      <td>True</td>\n      <td>False</td>\n      <td>False</td>\n      <td>Mixed</td>\n      <td>61</td>\n      <td>873</td>\n      <td>14.99</td>\n      <td>14.99</td>\n      <td>0.0</td>\n      <td>True</td>\n    </tr>\n    <tr>\n      <th>4</th>\n      <td>249050</td>\n      <td>Dungeon of the ENDLESS™</td>\n      <td>2014-10-27</td>\n      <td>True</td>\n      <td>True</td>\n      <td>False</td>\n      <td>Very Positive</td>\n      <td>88</td>\n      <td>8784</td>\n      <td>11.99</td>\n      <td>11.99</td>\n      <td>0.0</td>\n      <td>True</td>\n    </tr>\n    <tr>\n      <th>5</th>\n      <td>250180</td>\n      <td>METAL SLUG 3</td>\n      <td>2015-09-14</td>\n      <td>True</td>\n      <td>False</td>\n      <td>False</td>\n      <td>Very Positive</td>\n      <td>90</td>\n      <td>5579</td>\n      <td>7.99</td>\n      <td>7.99</td>\n      <td>0.0</td>\n      <td>True</td>\n    </tr>\n    <tr>\n      <th>6</th>\n      <td>253980</td>\n      <td>Enclave</td>\n      <td>2013-10-04</td>\n      <td>True</td>\n      <td>True</td>\n      <td>True</td>\n      <td>Mostly Positive</td>\n      <td>75</td>\n      <td>1608</td>\n      <td>4.99</td>\n      <td>4.99</td>\n      <td>0.0</td>\n      <td>True</td>\n    </tr>\n    <tr>\n      <th>7</th>\n      <td>271850</td>\n      <td>Men of War: Assault Squad 2 - Deluxe Edition u...</td>\n      <td>2014-05-16</td>\n      <td>True</td>\n      <td>False</td>\n      <td>False</td>\n      <td>Mixed</td>\n      <td>61</td>\n      <td>199</td>\n      <td>6.99</td>\n      <td>6.99</td>\n      <td>0.0</td>\n      <td>True</td>\n    </tr>\n    <tr>\n      <th>8</th>\n      <td>282900</td>\n      <td>Hyperdimension Neptunia Re;Birth1</td>\n      <td>2015-01-29</td>\n      <td>True</td>\n      <td>False</td>\n      <td>False</td>\n      <td>Very Positive</td>\n      <td>94</td>\n      <td>9686</td>\n      <td>14.99</td>\n      <td>14.99</td>\n      <td>0.0</td>\n      <td>True</td>\n    </tr>\n    <tr>\n      <th>9</th>\n      <td>19810</td>\n      <td>The Sum of All Fears</td>\n      <td>2008-10-10</td>\n      <td>True</td>\n      <td>False</td>\n      <td>False</td>\n      <td>Mostly Positive</td>\n      <td>75</td>\n      <td>33</td>\n      <td>9.99</td>\n      <td>9.99</td>\n      <td>0.0</td>\n      <td>True</td>\n    </tr>\n    <tr>\n      <th>10</th>\n      <td>15270</td>\n      <td>Cold Fear™</td>\n      <td>2008-05-13</td>\n      <td>True</td>\n      <td>False</td>\n      <td>False</td>\n      <td>Very Positive</td>\n      <td>85</td>\n      <td>800</td>\n      <td>9.99</td>\n      <td>9.99</td>\n      <td>0.0</td>\n      <td>True</td>\n    </tr>\n    <tr>\n      <th>11</th>\n      <td>21130</td>\n      <td>LEGO® Harry Potter: Years 1-4</td>\n      <td>2010-06-25</td>\n      <td>True</td>\n      <td>False</td>\n      <td>False</td>\n      <td>Very Positive</td>\n      <td>85</td>\n      <td>5169</td>\n      <td>19.99</td>\n      <td>19.99</td>\n      <td>0.0</td>\n      <td>True</td>\n    </tr>\n    <tr>\n      <th>12</th>\n      <td>22130</td>\n      <td>Hearts of Iron 2 Complete</td>\n      <td>2009-01-23</td>\n      <td>True</td>\n      <td>False</td>\n      <td>False</td>\n      <td>Very Positive</td>\n      <td>85</td>\n      <td>462</td>\n      <td>14.99</td>\n      <td>14.99</td>\n      <td>0.0</td>\n      <td>True</td>\n    </tr>\n    <tr>\n      <th>13</th>\n      <td>29180</td>\n      <td>Osmos</td>\n      <td>2009-08-18</td>\n      <td>True</td>\n      <td>True</td>\n      <td>True</td>\n      <td>Very Positive</td>\n      <td>88</td>\n      <td>532</td>\n      <td>9.99</td>\n      <td>9.99</td>\n      <td>0.0</td>\n      <td>True</td>\n    </tr>\n    <tr>\n      <th>14</th>\n      <td>32750</td>\n      <td>Comanche 4</td>\n      <td>2009-06-18</td>\n      <td>True</td>\n      <td>False</td>\n      <td>False</td>\n      <td>Very Positive</td>\n      <td>90</td>\n      <td>222</td>\n      <td>9.99</td>\n      <td>9.99</td>\n      <td>0.0</td>\n      <td>True</td>\n    </tr>\n    <tr>\n      <th>15</th>\n      <td>241620</td>\n      <td>Inquisitor</td>\n      <td>2013-08-01</td>\n      <td>True</td>\n      <td>False</td>\n      <td>False</td>\n      <td>Mostly Positive</td>\n      <td>70</td>\n      <td>390</td>\n      <td>9.99</td>\n      <td>9.99</td>\n      <td>0.0</td>\n      <td>True</td>\n    </tr>\n    <tr>\n      <th>16</th>\n      <td>408520</td>\n      <td>FORM</td>\n      <td>2017-06-01</td>\n      <td>True</td>\n      <td>False</td>\n      <td>False</td>\n      <td>Very Positive</td>\n      <td>91</td>\n      <td>934</td>\n      <td>14.99</td>\n      <td>14.99</td>\n      <td>0.0</td>\n      <td>True</td>\n    </tr>\n    <tr>\n      <th>17</th>\n      <td>244910</td>\n      <td>Homesick</td>\n      <td>2015-05-28</td>\n      <td>True</td>\n      <td>False</td>\n      <td>False</td>\n      <td>Mostly Positive</td>\n      <td>77</td>\n      <td>1139</td>\n      <td>14.99</td>\n      <td>14.99</td>\n      <td>0.0</td>\n      <td>True</td>\n    </tr>\n    <tr>\n      <th>18</th>\n      <td>245950</td>\n      <td>Borderlands 2: Headhunter 4: Wedding Day Massacre</td>\n      <td>2014-02-11</td>\n      <td>True</td>\n      <td>True</td>\n      <td>True</td>\n      <td>Very Positive</td>\n      <td>84</td>\n      <td>294</td>\n      <td>0.89</td>\n      <td>2.99</td>\n      <td>70.0</td>\n      <td>True</td>\n    </tr>\n    <tr>\n      <th>19</th>\n      <td>250460</td>\n      <td>Bridge Constructor</td>\n      <td>2013-10-16</td>\n      <td>True</td>\n      <td>True</td>\n      <td>True</td>\n      <td>Mostly Positive</td>\n      <td>77</td>\n      <td>716</td>\n      <td>2.39</td>\n      <td>19.99</td>\n      <td>88.0</td>\n      <td>True</td>\n    </tr>\n    <tr>\n      <th>20</th>\n      <td>278890</td>\n      <td>Angvik</td>\n      <td>2014-02-24</td>\n      <td>True</td>\n      <td>True</td>\n      <td>False</td>\n      <td>Very Positive</td>\n      <td>88</td>\n      <td>1986</td>\n      <td>2.99</td>\n      <td>2.99</td>\n      <td>0.0</td>\n      <td>True</td>\n    </tr>\n    <tr>\n      <th>21</th>\n      <td>305181</td>\n      <td>Sniper Elite 3 - Camouflage Weapons Pack</td>\n      <td>2014-06-27</td>\n      <td>True</td>\n      <td>False</td>\n      <td>False</td>\n      <td>Very Positive</td>\n      <td>95</td>\n      <td>74</td>\n      <td>3.99</td>\n      <td>3.99</td>\n      <td>0.0</td>\n      <td>True</td>\n    </tr>\n    <tr>\n      <th>22</th>\n      <td>312200</td>\n      <td>Chasm</td>\n      <td>2018-07-30</td>\n      <td>True</td>\n      <td>True</td>\n      <td>True</td>\n      <td>Mostly Positive</td>\n      <td>73</td>\n      <td>1065</td>\n      <td>19.99</td>\n      <td>19.99</td>\n      <td>0.0</td>\n      <td>True</td>\n    </tr>\n    <tr>\n      <th>23</th>\n      <td>321290</td>\n      <td>Dandelion - Wishes brought to you -</td>\n      <td>2014-09-29</td>\n      <td>True</td>\n      <td>True</td>\n      <td>False</td>\n      <td>Very Positive</td>\n      <td>85</td>\n      <td>589</td>\n      <td>29.99</td>\n      <td>29.99</td>\n      <td>0.0</td>\n      <td>True</td>\n    </tr>\n    <tr>\n      <th>24</th>\n      <td>329640</td>\n      <td>Eradicator</td>\n      <td>2014-11-06</td>\n      <td>True</td>\n      <td>True</td>\n      <td>True</td>\n      <td>Very Positive</td>\n      <td>88</td>\n      <td>60</td>\n      <td>6.99</td>\n      <td>6.99</td>\n      <td>0.0</td>\n      <td>True</td>\n    </tr>\n    <tr>\n      <th>25</th>\n      <td>367670</td>\n      <td>Controller Companion</td>\n      <td>2015-05-04</td>\n      <td>True</td>\n      <td>False</td>\n      <td>False</td>\n      <td>Very Positive</td>\n      <td>90</td>\n      <td>2323</td>\n      <td>2.99</td>\n      <td>2.99</td>\n      <td>0.0</td>\n      <td>True</td>\n    </tr>\n    <tr>\n      <th>26</th>\n      <td>380810</td>\n      <td>Herald: An Interactive Period Drama - Book I &amp; II</td>\n      <td>2017-02-22</td>\n      <td>True</td>\n      <td>True</td>\n      <td>True</td>\n      <td>Very Positive</td>\n      <td>89</td>\n      <td>97</td>\n      <td>9.99</td>\n      <td>9.99</td>\n      <td>0.0</td>\n      <td>True</td>\n    </tr>\n    <tr>\n      <th>27</th>\n      <td>392330</td>\n      <td>Take Command - 2nd Manassas</td>\n      <td>2016-10-28</td>\n      <td>True</td>\n      <td>False</td>\n      <td>False</td>\n      <td>Very Positive</td>\n      <td>93</td>\n      <td>62</td>\n      <td>9.99</td>\n      <td>9.99</td>\n      <td>0.0</td>\n      <td>True</td>\n    </tr>\n    <tr>\n      <th>28</th>\n      <td>437000</td>\n      <td>GUILTY GEAR 2 -OVERTURE-</td>\n      <td>2016-03-31</td>\n      <td>True</td>\n      <td>False</td>\n      <td>False</td>\n      <td>Mostly Positive</td>\n      <td>71</td>\n      <td>214</td>\n      <td>19.99</td>\n      <td>19.99</td>\n      <td>0.0</td>\n      <td>True</td>\n    </tr>\n    <tr>\n      <th>29</th>\n      <td>445420</td>\n      <td>Aselia the Eternal -The Spirit of Eternity Sword-</td>\n      <td>2016-04-29</td>\n      <td>True</td>\n      <td>False</td>\n      <td>False</td>\n      <td>Very Positive</td>\n      <td>82</td>\n      <td>63</td>\n      <td>14.99</td>\n      <td>14.99</td>\n      <td>0.0</td>\n      <td>True</td>\n    </tr>\n    <tr>\n      <th>30</th>\n      <td>458790</td>\n      <td>The House in Fata Morgana Original Soundtrack</td>\n      <td>2016-05-13</td>\n      <td>False</td>\n      <td>False</td>\n      <td>False</td>\n      <td>Positive</td>\n      <td>100</td>\n      <td>32</td>\n      <td>11.99</td>\n      <td>11.99</td>\n      <td>0.0</td>\n      <td>True</td>\n    </tr>\n    <tr>\n      <th>31</th>\n      <td>462280</td>\n      <td>Offworld Trading Company - Soundtrack DLC</td>\n      <td>2016-04-28</td>\n      <td>True</td>\n      <td>True</td>\n      <td>False</td>\n      <td>Positive</td>\n      <td>80</td>\n      <td>10</td>\n      <td>9.99</td>\n      <td>9.99</td>\n      <td>0.0</td>\n      <td>True</td>\n    </tr>\n    <tr>\n      <th>32</th>\n      <td>1872790</td>\n      <td>Luckitown</td>\n      <td>2022-01-19</td>\n      <td>True</td>\n      <td>True</td>\n      <td>False</td>\n      <td>Very Positive</td>\n      <td>86</td>\n      <td>163</td>\n      <td>4.99</td>\n      <td>4.99</td>\n      <td>0.0</td>\n      <td>True</td>\n    </tr>\n    <tr>\n      <th>33</th>\n      <td>371970</td>\n      <td>Barony</td>\n      <td>2015-06-23</td>\n      <td>True</td>\n      <td>True</td>\n      <td>True</td>\n      <td>Very Positive</td>\n      <td>92</td>\n      <td>3713</td>\n      <td>20.00</td>\n      <td>0.00</td>\n      <td>0.0</td>\n      <td>True</td>\n    </tr>\n    <tr>\n      <th>34</th>\n      <td>222660</td>\n      <td>Retro/Grade</td>\n      <td>2013-03-20</td>\n      <td>True</td>\n      <td>False</td>\n      <td>False</td>\n      <td>Very Positive</td>\n      <td>85</td>\n      <td>207</td>\n      <td>9.99</td>\n      <td>9.99</td>\n      <td>0.0</td>\n      <td>True</td>\n    </tr>\n    <tr>\n      <th>35</th>\n      <td>237850</td>\n      <td>Dreamfall Chapters</td>\n      <td>2017-07-21</td>\n      <td>True</td>\n      <td>True</td>\n      <td>True</td>\n      <td>Very Positive</td>\n      <td>82</td>\n      <td>2976</td>\n      <td>24.99</td>\n      <td>24.99</td>\n      <td>0.0</td>\n      <td>True</td>\n    </tr>\n    <tr>\n      <th>36</th>\n      <td>268220</td>\n      <td>Meltdown</td>\n      <td>2014-06-05</td>\n      <td>True</td>\n      <td>True</td>\n      <td>True</td>\n      <td>Very Positive</td>\n      <td>86</td>\n      <td>493</td>\n      <td>6.99</td>\n      <td>6.99</td>\n      <td>0.0</td>\n      <td>True</td>\n    </tr>\n    <tr>\n      <th>37</th>\n      <td>274270</td>\n      <td>NOT A HERO</td>\n      <td>2016-07-08</td>\n      <td>True</td>\n      <td>True</td>\n      <td>True</td>\n      <td>Very Positive</td>\n      <td>86</td>\n      <td>1563</td>\n      <td>19.99</td>\n      <td>19.99</td>\n      <td>0.0</td>\n      <td>True</td>\n    </tr>\n    <tr>\n      <th>38</th>\n      <td>281450</td>\n      <td>Disciples Sacred Lands Gold</td>\n      <td>2014-10-07</td>\n      <td>True</td>\n      <td>False</td>\n      <td>False</td>\n      <td>Very Positive</td>\n      <td>85</td>\n      <td>270</td>\n      <td>7.99</td>\n      <td>7.99</td>\n      <td>0.0</td>\n      <td>True</td>\n    </tr>\n    <tr>\n      <th>39</th>\n      <td>1259750</td>\n      <td>Tropico 6 - Spitter</td>\n      <td>2020-04-23</td>\n      <td>True</td>\n      <td>True</td>\n      <td>True</td>\n      <td>Mixed</td>\n      <td>58</td>\n      <td>36</td>\n      <td>9.99</td>\n      <td>9.99</td>\n      <td>0.0</td>\n      <td>True</td>\n    </tr>\n    <tr>\n      <th>40</th>\n      <td>296870</td>\n      <td>Dreaming Sarah</td>\n      <td>2015-03-12</td>\n      <td>True</td>\n      <td>False</td>\n      <td>True</td>\n      <td>Very Positive</td>\n      <td>92</td>\n      <td>2010</td>\n      <td>5.99</td>\n      <td>5.99</td>\n      <td>0.0</td>\n      <td>True</td>\n    </tr>\n    <tr>\n      <th>41</th>\n      <td>330180</td>\n      <td>Pix the Cat</td>\n      <td>2015-01-29</td>\n      <td>True</td>\n      <td>True</td>\n      <td>True</td>\n      <td>Very Positive</td>\n      <td>87</td>\n      <td>170</td>\n      <td>4.99</td>\n      <td>4.99</td>\n      <td>0.0</td>\n      <td>True</td>\n    </tr>\n    <tr>\n      <th>42</th>\n      <td>351920</td>\n      <td>Crazy Machines 3</td>\n      <td>2016-10-18</td>\n      <td>True</td>\n      <td>False</td>\n      <td>False</td>\n      <td>Very Positive</td>\n      <td>94</td>\n      <td>6817</td>\n      <td>9.99</td>\n      <td>9.99</td>\n      <td>0.0</td>\n      <td>True</td>\n    </tr>\n    <tr>\n      <th>43</th>\n      <td>397210</td>\n      <td>Kanji Training Game</td>\n      <td>2015-09-23</td>\n      <td>True</td>\n      <td>False</td>\n      <td>False</td>\n      <td>Mostly Positive</td>\n      <td>75</td>\n      <td>72</td>\n      <td>4.99</td>\n      <td>4.99</td>\n      <td>0.0</td>\n      <td>True</td>\n    </tr>\n    <tr>\n      <th>44</th>\n      <td>402130</td>\n      <td>FlatOut 4: Total Insanity</td>\n      <td>2017-04-04</td>\n      <td>True</td>\n      <td>False</td>\n      <td>False</td>\n      <td>Mixed</td>\n      <td>52</td>\n      <td>1489</td>\n      <td>29.99</td>\n      <td>29.99</td>\n      <td>0.0</td>\n      <td>True</td>\n    </tr>\n    <tr>\n      <th>45</th>\n      <td>402710</td>\n      <td>Osiris: New Dawn</td>\n      <td>2023-01-18</td>\n      <td>True</td>\n      <td>False</td>\n      <td>False</td>\n      <td>Mixed</td>\n      <td>57</td>\n      <td>12322</td>\n      <td>19.99</td>\n      <td>19.99</td>\n      <td>0.0</td>\n      <td>True</td>\n    </tr>\n    <tr>\n      <th>46</th>\n      <td>410970</td>\n      <td>Master of Orion 1</td>\n      <td>2016-08-25</td>\n      <td>True</td>\n      <td>True</td>\n      <td>True</td>\n      <td>Very Positive</td>\n      <td>90</td>\n      <td>279</td>\n      <td>0.89</td>\n      <td>5.99</td>\n      <td>85.0</td>\n      <td>True</td>\n    </tr>\n    <tr>\n      <th>47</th>\n      <td>415200</td>\n      <td>Motorsport Manager</td>\n      <td>2016-11-09</td>\n      <td>True</td>\n      <td>True</td>\n      <td>True</td>\n      <td>Very Positive</td>\n      <td>91</td>\n      <td>9753</td>\n      <td>19.99</td>\n      <td>19.99</td>\n      <td>0.0</td>\n      <td>True</td>\n    </tr>\n    <tr>\n      <th>48</th>\n      <td>410770</td>\n      <td>Roads of Rome</td>\n      <td>2015-10-16</td>\n      <td>True</td>\n      <td>False</td>\n      <td>False</td>\n      <td>Very Positive</td>\n      <td>85</td>\n      <td>61</td>\n      <td>3.99</td>\n      <td>3.99</td>\n      <td>0.0</td>\n      <td>True</td>\n    </tr>\n    <tr>\n      <th>49</th>\n      <td>254820</td>\n      <td>Ground Control Anthology</td>\n      <td>2015-07-08</td>\n      <td>True</td>\n      <td>False</td>\n      <td>False</td>\n      <td>Very Positive</td>\n      <td>87</td>\n      <td>141</td>\n      <td>4.99</td>\n      <td>4.99</td>\n      <td>0.0</td>\n      <td>True</td>\n    </tr>\n  </tbody>\n</table>\n</div>"
     },
     "execution_count": 16,
     "metadata": {},
     "output_type": "execute_result"
    }
   ],
   "source": [
    "recommendations = reduce_mem_usage(pd.read_csv('./dataset/recommendations.csv'))\n",
    "users = reduce_mem_usage(pd.read_csv('./dataset/users.csv'))\n",
    "games = pd.read_csv('./dataset/games.csv')\n",
    "games.head(50)"
   ],
   "metadata": {
    "collapsed": false,
    "ExecuteTime": {
     "end_time": "2023-11-29T03:30:05.171370Z",
     "start_time": "2023-11-29T03:29:19.688656700Z"
    }
   },
   "id": "c7717cfd2db345ed"
  },
  {
   "cell_type": "code",
   "execution_count": 17,
   "outputs": [
    {
     "name": "stdout",
     "output_type": "stream",
     "text": [
      "<class 'pandas.core.frame.DataFrame'>\n",
      "RangeIndex: 38354101 entries, 0 to 38354100\n",
      "Data columns (total 8 columns):\n",
      " #   Column          Dtype   \n",
      "---  ------          -----   \n",
      " 0   app_id          int32   \n",
      " 1   helpful         int32   \n",
      " 2   funny           int16   \n",
      " 3   date            category\n",
      " 4   is_recommended  float16 \n",
      " 5   hours           float16 \n",
      " 6   user_id         int32   \n",
      " 7   review_id       int32   \n",
      "dtypes: category(1), float16(2), int16(1), int32(4)\n",
      "memory usage: 878.0 MB\n"
     ]
    }
   ],
   "source": [
    "recommendations.info()"
   ],
   "metadata": {
    "collapsed": false,
    "ExecuteTime": {
     "end_time": "2023-11-29T03:30:53.812962300Z",
     "start_time": "2023-11-29T03:30:53.760016Z"
    }
   },
   "id": "2a6a6f82cc8cca29"
  },
  {
   "cell_type": "code",
   "execution_count": 18,
   "outputs": [
    {
     "name": "stdout",
     "output_type": "stream",
     "text": [
      "<class 'pandas.core.frame.DataFrame'>\n",
      "RangeIndex: 13786778 entries, 0 to 13786777\n",
      "Data columns (total 3 columns):\n",
      " #   Column    Dtype\n",
      "---  ------    -----\n",
      " 0   user_id   int32\n",
      " 1   products  int16\n",
      " 2   reviews   int16\n",
      "dtypes: int16(2), int32(1)\n",
      "memory usage: 105.2 MB\n"
     ]
    }
   ],
   "source": [
    "users.info()"
   ],
   "metadata": {
    "collapsed": false,
    "ExecuteTime": {
     "end_time": "2023-11-29T03:30:55.599303Z",
     "start_time": "2023-11-29T03:30:55.558279700Z"
    }
   },
   "id": "bd86faaf78a25d30"
  },
  {
   "cell_type": "code",
   "execution_count": 19,
   "outputs": [
    {
     "data": {
      "text/plain": "             app_id       helpful         funny  is_recommended         hours  \\\ncount  3.835410e+07  3.835410e+07  3.835410e+07      38354101.0  3.835410e+07   \nmean   5.984360e+05  3.291471e+00  1.089531e+00             NaN           NaN   \nstd    4.699511e+05  4.825269e+01  2.949939e+01             0.0           NaN   \nmin    1.000000e+01  0.000000e+00  0.000000e+00             0.0  0.000000e+00   \n25%    2.524900e+05  0.000000e+00  0.000000e+00             1.0  8.500000e+00   \n50%    4.338500e+05  0.000000e+00  0.000000e+00             1.0  2.940625e+01   \n75%    9.204900e+05  0.000000e+00  0.000000e+00             1.0  1.051250e+02   \nmax    2.253290e+06  3.621200e+04  2.810900e+04             1.0  1.000000e+03   \n\n            user_id     review_id  \ncount  3.835410e+07  3.835410e+07  \nmean   7.174218e+06  1.917705e+07  \nstd    3.869890e+06  1.107188e+07  \nmin    0.000000e+00  0.000000e+00  \n25%    4.113430e+06  9.588525e+06  \n50%    7.266746e+06  1.917705e+07  \n75%    1.056852e+07  2.876558e+07  \nmax    1.378678e+07  3.835410e+07  ",
      "text/html": "<div>\n<style scoped>\n    .dataframe tbody tr th:only-of-type {\n        vertical-align: middle;\n    }\n\n    .dataframe tbody tr th {\n        vertical-align: top;\n    }\n\n    .dataframe thead th {\n        text-align: right;\n    }\n</style>\n<table border=\"1\" class=\"dataframe\">\n  <thead>\n    <tr style=\"text-align: right;\">\n      <th></th>\n      <th>app_id</th>\n      <th>helpful</th>\n      <th>funny</th>\n      <th>is_recommended</th>\n      <th>hours</th>\n      <th>user_id</th>\n      <th>review_id</th>\n    </tr>\n  </thead>\n  <tbody>\n    <tr>\n      <th>count</th>\n      <td>3.835410e+07</td>\n      <td>3.835410e+07</td>\n      <td>3.835410e+07</td>\n      <td>38354101.0</td>\n      <td>3.835410e+07</td>\n      <td>3.835410e+07</td>\n      <td>3.835410e+07</td>\n    </tr>\n    <tr>\n      <th>mean</th>\n      <td>5.984360e+05</td>\n      <td>3.291471e+00</td>\n      <td>1.089531e+00</td>\n      <td>NaN</td>\n      <td>NaN</td>\n      <td>7.174218e+06</td>\n      <td>1.917705e+07</td>\n    </tr>\n    <tr>\n      <th>std</th>\n      <td>4.699511e+05</td>\n      <td>4.825269e+01</td>\n      <td>2.949939e+01</td>\n      <td>0.0</td>\n      <td>NaN</td>\n      <td>3.869890e+06</td>\n      <td>1.107188e+07</td>\n    </tr>\n    <tr>\n      <th>min</th>\n      <td>1.000000e+01</td>\n      <td>0.000000e+00</td>\n      <td>0.000000e+00</td>\n      <td>0.0</td>\n      <td>0.000000e+00</td>\n      <td>0.000000e+00</td>\n      <td>0.000000e+00</td>\n    </tr>\n    <tr>\n      <th>25%</th>\n      <td>2.524900e+05</td>\n      <td>0.000000e+00</td>\n      <td>0.000000e+00</td>\n      <td>1.0</td>\n      <td>8.500000e+00</td>\n      <td>4.113430e+06</td>\n      <td>9.588525e+06</td>\n    </tr>\n    <tr>\n      <th>50%</th>\n      <td>4.338500e+05</td>\n      <td>0.000000e+00</td>\n      <td>0.000000e+00</td>\n      <td>1.0</td>\n      <td>2.940625e+01</td>\n      <td>7.266746e+06</td>\n      <td>1.917705e+07</td>\n    </tr>\n    <tr>\n      <th>75%</th>\n      <td>9.204900e+05</td>\n      <td>0.000000e+00</td>\n      <td>0.000000e+00</td>\n      <td>1.0</td>\n      <td>1.051250e+02</td>\n      <td>1.056852e+07</td>\n      <td>2.876558e+07</td>\n    </tr>\n    <tr>\n      <th>max</th>\n      <td>2.253290e+06</td>\n      <td>3.621200e+04</td>\n      <td>2.810900e+04</td>\n      <td>1.0</td>\n      <td>1.000000e+03</td>\n      <td>1.378678e+07</td>\n      <td>3.835410e+07</td>\n    </tr>\n  </tbody>\n</table>\n</div>"
     },
     "execution_count": 19,
     "metadata": {},
     "output_type": "execute_result"
    }
   ],
   "source": [
    "recommendations.describe()"
   ],
   "metadata": {
    "collapsed": false,
    "ExecuteTime": {
     "end_time": "2023-11-29T03:31:06.329858200Z",
     "start_time": "2023-11-29T03:30:57.327054200Z"
    }
   },
   "id": "ec9ab13c5e75335d"
  },
  {
   "cell_type": "code",
   "execution_count": 20,
   "outputs": [
    {
     "data": {
      "text/plain": "            user_id      products       reviews\ncount  1.378678e+07  1.378678e+07  1.378678e+07\nmean   6.893388e+06  1.175048e+02  2.781948e+00\nstd    3.979900e+06  2.461478e+02  7.316853e+00\nmin    0.000000e+00  0.000000e+00  0.000000e+00\n25%    3.446694e+06  2.300000e+01  1.000000e+00\n50%    6.893388e+06  5.600000e+01  1.000000e+00\n75%    1.034008e+07  1.280000e+02  3.000000e+00\nmax    1.378678e+07  3.221400e+04  5.306000e+03",
      "text/html": "<div>\n<style scoped>\n    .dataframe tbody tr th:only-of-type {\n        vertical-align: middle;\n    }\n\n    .dataframe tbody tr th {\n        vertical-align: top;\n    }\n\n    .dataframe thead th {\n        text-align: right;\n    }\n</style>\n<table border=\"1\" class=\"dataframe\">\n  <thead>\n    <tr style=\"text-align: right;\">\n      <th></th>\n      <th>user_id</th>\n      <th>products</th>\n      <th>reviews</th>\n    </tr>\n  </thead>\n  <tbody>\n    <tr>\n      <th>count</th>\n      <td>1.378678e+07</td>\n      <td>1.378678e+07</td>\n      <td>1.378678e+07</td>\n    </tr>\n    <tr>\n      <th>mean</th>\n      <td>6.893388e+06</td>\n      <td>1.175048e+02</td>\n      <td>2.781948e+00</td>\n    </tr>\n    <tr>\n      <th>std</th>\n      <td>3.979900e+06</td>\n      <td>2.461478e+02</td>\n      <td>7.316853e+00</td>\n    </tr>\n    <tr>\n      <th>min</th>\n      <td>0.000000e+00</td>\n      <td>0.000000e+00</td>\n      <td>0.000000e+00</td>\n    </tr>\n    <tr>\n      <th>25%</th>\n      <td>3.446694e+06</td>\n      <td>2.300000e+01</td>\n      <td>1.000000e+00</td>\n    </tr>\n    <tr>\n      <th>50%</th>\n      <td>6.893388e+06</td>\n      <td>5.600000e+01</td>\n      <td>1.000000e+00</td>\n    </tr>\n    <tr>\n      <th>75%</th>\n      <td>1.034008e+07</td>\n      <td>1.280000e+02</td>\n      <td>3.000000e+00</td>\n    </tr>\n    <tr>\n      <th>max</th>\n      <td>1.378678e+07</td>\n      <td>3.221400e+04</td>\n      <td>5.306000e+03</td>\n    </tr>\n  </tbody>\n</table>\n</div>"
     },
     "execution_count": 20,
     "metadata": {},
     "output_type": "execute_result"
    }
   ],
   "source": [
    "users.describe()"
   ],
   "metadata": {
    "collapsed": false,
    "ExecuteTime": {
     "end_time": "2023-11-29T03:31:13.761955100Z",
     "start_time": "2023-11-29T03:31:12.813148100Z"
    }
   },
   "id": "dbde9262d032cce8"
  },
  {
   "cell_type": "code",
   "execution_count": 21,
   "outputs": [
    {
     "name": "stdout",
     "output_type": "stream",
     "text": [
      "app_id            0\n",
      "helpful           0\n",
      "funny             0\n",
      "date              0\n",
      "is_recommended    0\n",
      "hours             0\n",
      "user_id           0\n",
      "review_id         0\n",
      "dtype: int64\n",
      "user_id     0\n",
      "products    0\n",
      "reviews     0\n",
      "dtype: int64\n"
     ]
    }
   ],
   "source": [
    "recommendations_null = recommendations.isnull().sum()\n",
    "users_null = users.isnull().sum()\n",
    "print(recommendations_null)\n",
    "print(users_null)"
   ],
   "metadata": {
    "collapsed": false,
    "ExecuteTime": {
     "end_time": "2023-11-29T03:31:16.136131800Z",
     "start_time": "2023-11-29T03:31:15.612360900Z"
    }
   },
   "id": "eb1d4b0499d0bae2"
  },
  {
   "cell_type": "code",
   "execution_count": 22,
   "outputs": [
    {
     "data": {
      "text/plain": "<Figure size 432x288 with 1 Axes>",
      "image/png": "[encoded data removed]"
     },
     "metadata": {},
     "output_type": "display_data"
    }
   ],
   "source": [
    "helpful = recommendations[recommendations['helpful']>0]\n",
    "plt.hist(helpful['helpful'], \n",
    "orientation = 'vertical',\n",
    "histtype = 'bar', color ='red')\n",
    "plt.show()"
   ],
   "metadata": {
    "collapsed": false,
    "ExecuteTime": {
     "end_time": "2023-11-29T03:31:21.678539900Z",
     "start_time": "2023-11-29T03:31:19.746372Z"
    }
   },
   "id": "581a8beb5a96366d"
  },
  {
   "cell_type": "code",
   "execution_count": 23,
   "outputs": [
    {
     "data": {
      "text/plain": "    app_id  helpful  funny        date  is_recommended       hours  user_id  \\\n0   975370        0      0  2022-12-12             1.0   36.312500    49625   \n1   304390        4      0  2017-02-17             0.0   11.500000     2482   \n2  1085660        2      0  2019-11-17             1.0  336.500000   243409   \n3   703080        0      0  2022-09-23             1.0   27.406250   248701   \n4   526870        0      0  2021-01-10             1.0    7.898438    22902   \n\n   review_id  \n0          0  \n1          1  \n2          2  \n3          3  \n4          4  ",
      "text/html": "<div>\n<style scoped>\n    .dataframe tbody tr th:only-of-type {\n        vertical-align: middle;\n    }\n\n    .dataframe tbody tr th {\n        vertical-align: top;\n    }\n\n    .dataframe thead th {\n        text-align: right;\n    }\n</style>\n<table border=\"1\" class=\"dataframe\">\n  <thead>\n    <tr style=\"text-align: right;\">\n      <th></th>\n      <th>app_id</th>\n      <th>helpful</th>\n      <th>funny</th>\n      <th>date</th>\n      <th>is_recommended</th>\n      <th>hours</th>\n      <th>user_id</th>\n      <th>review_id</th>\n    </tr>\n  </thead>\n  <tbody>\n    <tr>\n      <th>0</th>\n      <td>975370</td>\n      <td>0</td>\n      <td>0</td>\n      <td>2022-12-12</td>\n      <td>1.0</td>\n      <td>36.312500</td>\n      <td>49625</td>\n      <td>0</td>\n    </tr>\n    <tr>\n      <th>1</th>\n      <td>304390</td>\n      <td>4</td>\n      <td>0</td>\n      <td>2017-02-17</td>\n      <td>0.0</td>\n      <td>11.500000</td>\n      <td>2482</td>\n      <td>1</td>\n    </tr>\n    <tr>\n      <th>2</th>\n      <td>1085660</td>\n      <td>2</td>\n      <td>0</td>\n      <td>2019-11-17</td>\n      <td>1.0</td>\n      <td>336.500000</td>\n      <td>243409</td>\n      <td>2</td>\n    </tr>\n    <tr>\n      <th>3</th>\n      <td>703080</td>\n      <td>0</td>\n      <td>0</td>\n      <td>2022-09-23</td>\n      <td>1.0</td>\n      <td>27.406250</td>\n      <td>248701</td>\n      <td>3</td>\n    </tr>\n    <tr>\n      <th>4</th>\n      <td>526870</td>\n      <td>0</td>\n      <td>0</td>\n      <td>2021-01-10</td>\n      <td>1.0</td>\n      <td>7.898438</td>\n      <td>22902</td>\n      <td>4</td>\n    </tr>\n  </tbody>\n</table>\n</div>"
     },
     "execution_count": 23,
     "metadata": {},
     "output_type": "execute_result"
    }
   ],
   "source": [
    "recommendations['is_recommended'].replace(True,1,inplace=True)\n",
    "recommendations['is_recommended'].replace(False,0,inplace=True)\n",
    "recommendations.head(5)"
   ],
   "metadata": {
    "collapsed": false,
    "ExecuteTime": {
     "end_time": "2023-11-29T03:31:23.205945300Z",
     "start_time": "2023-11-29T03:31:23.149947Z"
    }
   },
   "id": "351333184d4c8d23"
  },
  {
   "cell_type": "code",
   "execution_count": 24,
   "outputs": [
    {
     "name": "stdout",
     "output_type": "stream",
     "text": [
      "<class 'pandas.core.frame.DataFrame'>\n",
      "RangeIndex: 38354101 entries, 0 to 38354100\n",
      "Data columns (total 4 columns):\n",
      " #   Column          Dtype  \n",
      "---  ------          -----  \n",
      " 0   helpful         int32  \n",
      " 1   funny           int16  \n",
      " 2   hours           float16\n",
      " 3   is_recommended  int32  \n",
      "dtypes: float16(1), int16(1), int32(2)\n",
      "memory usage: 438.9 MB\n"
     ]
    }
   ],
   "source": [
    "rec_numeric_index = ['helpful',\t'funny', 'hours', 'is_recommended']\n",
    "recommendations_numeric = recommendations[rec_numeric_index]\n",
    "recommendations_numeric['is_recommended'] = recommendations_numeric['is_recommended'].astype(int)\n",
    "recommendations_numeric.info()"
   ],
   "metadata": {
    "collapsed": false,
    "ExecuteTime": {
     "end_time": "2023-11-29T03:31:27.008024700Z",
     "start_time": "2023-11-29T03:31:26.318728400Z"
    }
   },
   "id": "dbd8826aa7cb4ebd"
  },
  {
   "cell_type": "code",
   "execution_count": 27,
   "outputs": [
    {
     "data": {
      "text/plain": "<Figure size 432x288 with 1 Axes>",
      "image/png": "[encoded data removed]"
     },
     "metadata": {},
     "output_type": "display_data"
    }
   ],
   "source": [
    "plt.hist(recommendations_numeric['hours'], \n",
    "orientation = 'vertical',\n",
    "histtype = 'bar', color ='green')\n",
    "plt.show()"
   ],
   "metadata": {
    "collapsed": false,
    "ExecuteTime": {
     "end_time": "2023-11-29T03:33:14.700887200Z",
     "start_time": "2023-11-29T03:33:12.321491100Z"
    }
   },
   "id": "75a2d6ec94870a1c"
  },
  {
   "cell_type": "code",
   "execution_count": 25,
   "outputs": [
    {
     "data": {
      "text/plain": "<AxesSubplot:>"
     },
     "execution_count": 25,
     "metadata": {},
     "output_type": "execute_result"
    },
    {
     "data": {
      "text/plain": "<Figure size 432x288 with 2 Axes>",
      "image/png": "[encoded data removed]"
     },
     "metadata": {},
     "output_type": "display_data"
    }
   ],
   "source": [
    "correlation = recommendations_numeric.corr()\n",
    "sns.heatmap(correlation,square = True,  vmax=0.8)"
   ],
   "metadata": {
    "collapsed": false,
    "ExecuteTime": {
     "end_time": "2023-11-29T03:31:34.828052500Z",
     "start_time": "2023-11-29T03:31:31.576271300Z"
    }
   },
   "id": "544dfdb1f5deb9a3"
  },
  {
   "cell_type": "code",
   "execution_count": 26,
   "outputs": [],
   "source": [
    "def outliers_proc(data, col_name, scale=3):\n",
    "    \"\"\"\n",
    "    用于清洗异常值，默认用 box_plot（scale=3）进行清洗\n",
    "    :param data: 接收 pandas 数据格式\n",
    "    :param col_name: pandas 列名\n",
    "    :param scale: 尺度\n",
    "    :return:\n",
    "    \"\"\"\n",
    "\n",
    "    def box_plot_outliers(data_ser, box_scale):\n",
    "        \"\"\"\n",
    "        利用箱线图去除异常值\n",
    "        :param data_ser: 接收 pandas.Series 数据格式\n",
    "        :param box_scale: 箱线图尺度，\n",
    "        :return:\n",
    "        \"\"\"\n",
    "        iqr = box_scale * (data_ser.quantile(0.75) - data_ser.quantile(0.25))\n",
    "        val_low = data_ser.quantile(0.25) - iqr\n",
    "        val_up = data_ser.quantile(0.75) + iqr\n",
    "        rule_low = (data_ser < val_low)\n",
    "        rule_up = (data_ser > val_up)\n",
    "        return (rule_low, rule_up), (val_low, val_up)\n",
    "\n",
    "    data_n = data.copy()\n",
    "    data_series = data_n[col_name]\n",
    "    rule, value = box_plot_outliers(data_series, box_scale=scale)\n",
    "    index = np.arange(data_series.shape[0])[rule[0] | rule[1]]\n",
    "    print(\"Delete number is: {}\".format(len(index)))\n",
    "    data_n = data_n.drop(index)\n",
    "    data_n.reset_index(drop=True, inplace=True)\n",
    "    print(\"Now column number is: {}\".format(data_n.shape[0]))\n",
    "    index_low = np.arange(data_series.shape[0])[rule[0]]\n",
    "    outliers = data_series.iloc[index_low]\n",
    "    print(\"Description of data less than the lower bound is:\")\n",
    "    print(pd.Series(outliers).describe())\n",
    "    index_up = np.arange(data_series.shape[0])[rule[1]]\n",
    "    outliers = data_series.iloc[index_up]\n",
    "    print(\"Description of data larger than the upper bound is:\")\n",
    "    print(pd.Series(outliers).describe())\n",
    "    \n",
    "    fig, ax = plt.subplots(1, 2, figsize=(10, 7))\n",
    "    sns.boxplot(y=data[col_name], data=data, palette=\"Set1\", ax=ax[0])\n",
    "    sns.boxplot(y=data_n[col_name], data=data_n, palette=\"Set1\", ax=ax[1])\n",
    "    return data_n"
   ],
   "metadata": {
    "collapsed": false,
    "ExecuteTime": {
     "end_time": "2023-11-29T03:31:40.647796Z",
     "start_time": "2023-11-29T03:31:40.599768200Z"
    }
   },
   "id": "afde6bb1208d9801"
  },
  {
   "cell_type": "code",
   "execution_count": 28,
   "outputs": [
    {
     "name": "stdout",
     "output_type": "stream",
     "text": [
      "Delete number is: 8137937\n",
      "Now column number is: 30216164\n",
      "Description of data less than the lower bound is:\n",
      "count    0.0\n",
      "mean     NaN\n",
      "std      NaN\n",
      "min      NaN\n",
      "25%      NaN\n",
      "50%      NaN\n",
      "75%      NaN\n",
      "max      NaN\n",
      "Name: helpful, dtype: float64\n",
      "Description of data larger than the upper bound is:\n",
      "count    8.137937e+06\n",
      "mean     1.551270e+01\n",
      "std      1.038451e+02\n",
      "min      2.000000e+00\n",
      "25%      2.000000e+00\n",
      "50%      3.000000e+00\n",
      "75%      8.000000e+00\n",
      "max      3.621200e+04\n",
      "Name: helpful, dtype: float64\n",
      "Delete number is: 543349\n",
      "Now column number is: 29672815\n",
      "Description of data less than the lower bound is:\n",
      "count    0.0\n",
      "mean     NaN\n",
      "std      NaN\n",
      "min      NaN\n",
      "25%      NaN\n",
      "50%      NaN\n",
      "75%      NaN\n",
      "max      NaN\n",
      "Name: funny, dtype: float64\n",
      "Description of data larger than the upper bound is:\n",
      "count    543349.000000\n",
      "mean          2.801258\n",
      "std           2.137691\n",
      "min           2.000000\n",
      "25%           2.000000\n",
      "50%           2.000000\n",
      "75%           3.000000\n",
      "max         373.000000\n",
      "Name: funny, dtype: float64\n"
     ]
    },
    {
     "data": {
      "text/plain": "<Figure size 720x504 with 2 Axes>",
      "image/png": "[encoded data removed]"
     },
     "metadata": {},
     "output_type": "display_data"
    },
    {
     "data": {
      "text/plain": "<Figure size 720x504 with 2 Axes>",
      "image/png": "[encoded data removed]"
     },
     "metadata": {},
     "output_type": "display_data"
    }
   ],
   "source": [
    "recommendations_numeric = outliers_proc(recommendations_numeric, 'helpful', scale=3)\n",
    "recommendations_numeric = outliers_proc(recommendations_numeric, 'funny', scale=3)\n",
    "# recommendations_numeric = outliers_proc(recommendations_numeric, 'hours', scale=3)"
   ],
   "metadata": {
    "collapsed": false,
    "ExecuteTime": {
     "end_time": "2023-11-29T03:33:57.103288700Z",
     "start_time": "2023-11-29T03:33:27.894669600Z"
    }
   },
   "id": "bc7439ae05481530"
  },
  {
   "cell_type": "code",
   "execution_count": 29,
   "outputs": [
    {
     "data": {
      "text/plain": "          helpful       funny         hours  is_recommended\ncount  29672815.0  29672815.0  2.967282e+07    2.967282e+07\nmean          0.0         0.0           NaN    9.002200e-01\nstd           0.0         0.0           NaN    2.997064e-01\nmin           0.0         0.0  0.000000e+00    0.000000e+00\n25%           0.0         0.0  9.296875e+00    1.000000e+00\n50%           0.0         0.0  3.050000e+01    1.000000e+00\n75%           0.0         0.0  1.038750e+02    1.000000e+00\nmax           0.0         0.0  1.000000e+03    1.000000e+00",
      "text/html": "<div>\n<style scoped>\n    .dataframe tbody tr th:only-of-type {\n        vertical-align: middle;\n    }\n\n    .dataframe tbody tr th {\n        vertical-align: top;\n    }\n\n    .dataframe thead th {\n        text-align: right;\n    }\n</style>\n<table border=\"1\" class=\"dataframe\">\n  <thead>\n    <tr style=\"text-align: right;\">\n      <th></th>\n      <th>helpful</th>\n      <th>funny</th>\n      <th>hours</th>\n      <th>is_recommended</th>\n    </tr>\n  </thead>\n  <tbody>\n    <tr>\n      <th>count</th>\n      <td>29672815.0</td>\n      <td>29672815.0</td>\n      <td>2.967282e+07</td>\n      <td>2.967282e+07</td>\n    </tr>\n    <tr>\n      <th>mean</th>\n      <td>0.0</td>\n      <td>0.0</td>\n      <td>NaN</td>\n      <td>9.002200e-01</td>\n    </tr>\n    <tr>\n      <th>std</th>\n      <td>0.0</td>\n      <td>0.0</td>\n      <td>NaN</td>\n      <td>2.997064e-01</td>\n    </tr>\n    <tr>\n      <th>min</th>\n      <td>0.0</td>\n      <td>0.0</td>\n      <td>0.000000e+00</td>\n      <td>0.000000e+00</td>\n    </tr>\n    <tr>\n      <th>25%</th>\n      <td>0.0</td>\n      <td>0.0</td>\n      <td>9.296875e+00</td>\n      <td>1.000000e+00</td>\n    </tr>\n    <tr>\n      <th>50%</th>\n      <td>0.0</td>\n      <td>0.0</td>\n      <td>3.050000e+01</td>\n      <td>1.000000e+00</td>\n    </tr>\n    <tr>\n      <th>75%</th>\n      <td>0.0</td>\n      <td>0.0</td>\n      <td>1.038750e+02</td>\n      <td>1.000000e+00</td>\n    </tr>\n    <tr>\n      <th>max</th>\n      <td>0.0</td>\n      <td>0.0</td>\n      <td>1.000000e+03</td>\n      <td>1.000000e+00</td>\n    </tr>\n  </tbody>\n</table>\n</div>"
     },
     "execution_count": 29,
     "metadata": {},
     "output_type": "execute_result"
    }
   ],
   "source": [
    "recommendations_numeric.describe()"
   ],
   "metadata": {
    "collapsed": false,
    "ExecuteTime": {
     "end_time": "2023-11-29T03:34:21.890796900Z",
     "start_time": "2023-11-29T03:34:17.356628500Z"
    }
   },
   "id": "fad6234983dffb53"
  },
  {
   "cell_type": "code",
   "execution_count": null,
   "outputs": [],
   "source": [],
   "metadata": {
    "collapsed": false
   },
   "id": "854998219d61ed33"
  }
 ],
 "metadata": {
  "kernelspec": {
   "display_name": "Python 3",
   "language": "python",
   "name": "python3"
  },
  "language_info": {
   "codemirror_mode": {
    "name": "ipython",
    "version": 2
   },
   "file_extension": ".py",
   "mimetype": "text/x-python",
   "name": "python",
   "nbconvert_exporter": "python",
   "pygments_lexer": "ipython2",
   "version": "2.7.6"
  }
 },
 "nbformat": 4,
 "nbformat_minor": 5
}
