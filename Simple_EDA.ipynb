{
 "cells": [
  {
   "cell_type": "code",
   "execution_count": 70,
   "id": "initial_id",
   "metadata": {
    "collapsed": true,
    "ExecuteTime": {
     "end_time": "2023-11-29T03:11:10.854248700Z",
     "start_time": "2023-11-29T03:11:10.829246300Z"
    }
   },
   "outputs": [],
   "source": [
    "# import pandas as pd\n",
    "# file_path = './dataset/users.csv'\n",
    "# df = pd.read_csv(file_path, nrows=10000)\n",
    "# new_file_path = './dataset/users_DEMO.csv'\n",
    "# df.to_csv(new_file_path, index=False)"
   ]
  },
  {
   "cell_type": "code",
   "execution_count": 71,
   "outputs": [],
   "source": [
    "import warnings\n",
    "warnings.filterwarnings('ignore')\n",
    "\n",
    "import pandas as pd\n",
    "import matplotlib.pyplot as plt\n",
    "import seaborn as sns\n",
    "import numpy as np\n",
    "import scipy.stats as st\n",
    "import missingno as msno"
   ],
   "metadata": {
    "collapsed": false,
    "ExecuteTime": {
     "end_time": "2023-11-29T03:11:10.887248400Z",
     "start_time": "2023-11-29T03:11:10.836244500Z"
    }
   },
   "id": "6b6e671145e54fd2"
  },
  {
   "cell_type": "code",
   "execution_count": 72,
   "outputs": [
    {
     "data": {
      "text/plain": "     app_id                                              title date_release  \\\n0     13500                  Prince of Persia: Warrior Within™   2008-11-21   \n1     22364                            BRINK: Agents of Change   2011-08-03   \n2    113020                       Monaco: What's Yours Is Mine   2013-04-24   \n3    226560                                 Escape Dead Island   2014-11-18   \n4    249050                            Dungeon of the ENDLESS™   2014-10-27   \n5    250180                                       METAL SLUG 3   2015-09-14   \n6    253980                                            Enclave   2013-10-04   \n7    271850  Men of War: Assault Squad 2 - Deluxe Edition u...   2014-05-16   \n8    282900                  Hyperdimension Neptunia Re;Birth1   2015-01-29   \n9     19810                               The Sum of All Fears   2008-10-10   \n10    15270                                         Cold Fear™   2008-05-13   \n11    21130                      LEGO® Harry Potter: Years 1-4   2010-06-25   \n12    22130                          Hearts of Iron 2 Complete   2009-01-23   \n13    29180                                              Osmos   2009-08-18   \n14    32750                                         Comanche 4   2009-06-18   \n15   241620                                         Inquisitor   2013-08-01   \n16   408520                                               FORM   2017-06-01   \n17   244910                                           Homesick   2015-05-28   \n18   245950  Borderlands 2: Headhunter 4: Wedding Day Massacre   2014-02-11   \n19   250460                                 Bridge Constructor   2013-10-16   \n20   278890                                             Angvik   2014-02-24   \n21   305181           Sniper Elite 3 - Camouflage Weapons Pack   2014-06-27   \n22   312200                                              Chasm   2018-07-30   \n23   321290                Dandelion - Wishes brought to you -   2014-09-29   \n24   329640                                         Eradicator   2014-11-06   \n25   367670                               Controller Companion   2015-05-04   \n26   380810  Herald: An Interactive Period Drama - Book I & II   2017-02-22   \n27   392330                        Take Command - 2nd Manassas   2016-10-28   \n28   437000                           GUILTY GEAR 2 -OVERTURE-   2016-03-31   \n29   445420  Aselia the Eternal -The Spirit of Eternity Sword-   2016-04-29   \n30   458790      The House in Fata Morgana Original Soundtrack   2016-05-13   \n31   462280          Offworld Trading Company - Soundtrack DLC   2016-04-28   \n32  1872790                                          Luckitown   2022-01-19   \n33   371970                                             Barony   2015-06-23   \n34   222660                                        Retro/Grade   2013-03-20   \n35   237850                                 Dreamfall Chapters   2017-07-21   \n36   268220                                           Meltdown   2014-06-05   \n37   274270                                         NOT A HERO   2016-07-08   \n38   281450                        Disciples Sacred Lands Gold   2014-10-07   \n39  1259750                                Tropico 6 - Spitter   2020-04-23   \n40   296870                                     Dreaming Sarah   2015-03-12   \n41   330180                                        Pix the Cat   2015-01-29   \n42   351920                                   Crazy Machines 3   2016-10-18   \n43   397210                                Kanji Training Game   2015-09-23   \n44   402130                          FlatOut 4: Total Insanity   2017-04-04   \n45   402710                                   Osiris: New Dawn   2023-01-18   \n46   410970                                  Master of Orion 1   2016-08-25   \n47   415200                                 Motorsport Manager   2016-11-09   \n48   410770                                      Roads of Rome   2015-10-16   \n49   254820                           Ground Control Anthology   2015-07-08   \n\n      win    mac  linux           rating  positive_ratio  user_reviews  \\\n0    True  False  False    Very Positive              84          2199   \n1    True  False  False         Positive              85            21   \n2    True   True   True    Very Positive              92          3722   \n3    True  False  False            Mixed              61           873   \n4    True   True  False    Very Positive              88          8784   \n5    True  False  False    Very Positive              90          5579   \n6    True   True   True  Mostly Positive              75          1608   \n7    True  False  False            Mixed              61           199   \n8    True  False  False    Very Positive              94          9686   \n9    True  False  False  Mostly Positive              75            33   \n10   True  False  False    Very Positive              85           800   \n11   True  False  False    Very Positive              85          5169   \n12   True  False  False    Very Positive              85           462   \n13   True   True   True    Very Positive              88           532   \n14   True  False  False    Very Positive              90           222   \n15   True  False  False  Mostly Positive              70           390   \n16   True  False  False    Very Positive              91           934   \n17   True  False  False  Mostly Positive              77          1139   \n18   True   True   True    Very Positive              84           294   \n19   True   True   True  Mostly Positive              77           716   \n20   True   True  False    Very Positive              88          1986   \n21   True  False  False    Very Positive              95            74   \n22   True   True   True  Mostly Positive              73          1065   \n23   True   True  False    Very Positive              85           589   \n24   True   True   True    Very Positive              88            60   \n25   True  False  False    Very Positive              90          2323   \n26   True   True   True    Very Positive              89            97   \n27   True  False  False    Very Positive              93            62   \n28   True  False  False  Mostly Positive              71           214   \n29   True  False  False    Very Positive              82            63   \n30  False  False  False         Positive             100            32   \n31   True   True  False         Positive              80            10   \n32   True   True  False    Very Positive              86           163   \n33   True   True   True    Very Positive              92          3713   \n34   True  False  False    Very Positive              85           207   \n35   True   True   True    Very Positive              82          2976   \n36   True   True   True    Very Positive              86           493   \n37   True   True   True    Very Positive              86          1563   \n38   True  False  False    Very Positive              85           270   \n39   True   True   True            Mixed              58            36   \n40   True  False   True    Very Positive              92          2010   \n41   True   True   True    Very Positive              87           170   \n42   True  False  False    Very Positive              94          6817   \n43   True  False  False  Mostly Positive              75            72   \n44   True  False  False            Mixed              52          1489   \n45   True  False  False            Mixed              57         12322   \n46   True   True   True    Very Positive              90           279   \n47   True   True   True    Very Positive              91          9753   \n48   True  False  False    Very Positive              85            61   \n49   True  False  False    Very Positive              87           141   \n\n    price_final  price_original  discount  steam_deck  \n0          9.99            9.99       0.0        True  \n1          2.99            2.99       0.0        True  \n2         14.99           14.99       0.0        True  \n3         14.99           14.99       0.0        True  \n4         11.99           11.99       0.0        True  \n5          7.99            7.99       0.0        True  \n6          4.99            4.99       0.0        True  \n7          6.99            6.99       0.0        True  \n8         14.99           14.99       0.0        True  \n9          9.99            9.99       0.0        True  \n10         9.99            9.99       0.0        True  \n11        19.99           19.99       0.0        True  \n12        14.99           14.99       0.0        True  \n13         9.99            9.99       0.0        True  \n14         9.99            9.99       0.0        True  \n15         9.99            9.99       0.0        True  \n16        14.99           14.99       0.0        True  \n17        14.99           14.99       0.0        True  \n18         0.89            2.99      70.0        True  \n19         2.39           19.99      88.0        True  \n20         2.99            2.99       0.0        True  \n21         3.99            3.99       0.0        True  \n22        19.99           19.99       0.0        True  \n23        29.99           29.99       0.0        True  \n24         6.99            6.99       0.0        True  \n25         2.99            2.99       0.0        True  \n26         9.99            9.99       0.0        True  \n27         9.99            9.99       0.0        True  \n28        19.99           19.99       0.0        True  \n29        14.99           14.99       0.0        True  \n30        11.99           11.99       0.0        True  \n31         9.99            9.99       0.0        True  \n32         4.99            4.99       0.0        True  \n33        20.00            0.00       0.0        True  \n34         9.99            9.99       0.0        True  \n35        24.99           24.99       0.0        True  \n36         6.99            6.99       0.0        True  \n37        19.99           19.99       0.0        True  \n38         7.99            7.99       0.0        True  \n39         9.99            9.99       0.0        True  \n40         5.99            5.99       0.0        True  \n41         4.99            4.99       0.0        True  \n42         9.99            9.99       0.0        True  \n43         4.99            4.99       0.0        True  \n44        29.99           29.99       0.0        True  \n45        19.99           19.99       0.0        True  \n46         0.89            5.99      85.0        True  \n47        19.99           19.99       0.0        True  \n48         3.99            3.99       0.0        True  \n49         4.99            4.99       0.0        True  ",
      "text/html": "<div>\n<style scoped>\n    .dataframe tbody tr th:only-of-type {\n        vertical-align: middle;\n    }\n\n    .dataframe tbody tr th {\n        vertical-align: top;\n    }\n\n    .dataframe thead th {\n        text-align: right;\n    }\n</style>\n<table border=\"1\" class=\"dataframe\">\n  <thead>\n    <tr style=\"text-align: right;\">\n      <th></th>\n      <th>app_id</th>\n      <th>title</th>\n      <th>date_release</th>\n      <th>win</th>\n      <th>mac</th>\n      <th>linux</th>\n      <th>rating</th>\n      <th>positive_ratio</th>\n      <th>user_reviews</th>\n      <th>price_final</th>\n      <th>price_original</th>\n      <th>discount</th>\n      <th>steam_deck</th>\n    </tr>\n  </thead>\n  <tbody>\n    <tr>\n      <th>0</th>\n      <td>13500</td>\n      <td>Prince of Persia: Warrior Within™</td>\n      <td>2008-11-21</td>\n      <td>True</td>\n      <td>False</td>\n      <td>False</td>\n      <td>Very Positive</td>\n      <td>84</td>\n      <td>2199</td>\n      <td>9.99</td>\n      <td>9.99</td>\n      <td>0.0</td>\n      <td>True</td>\n    </tr>\n    <tr>\n      <th>1</th>\n      <td>22364</td>\n      <td>BRINK: Agents of Change</td>\n      <td>2011-08-03</td>\n      <td>True</td>\n      <td>False</td>\n      <td>False</td>\n      <td>Positive</td>\n      <td>85</td>\n      <td>21</td>\n      <td>2.99</td>\n      <td>2.99</td>\n      <td>0.0</td>\n      <td>True</td>\n    </tr>\n    <tr>\n      <th>2</th>\n      <td>113020</td>\n      <td>Monaco: What's Yours Is Mine</td>\n      <td>2013-04-24</td>\n      <td>True</td>\n      <td>True</td>\n      <td>True</td>\n      <td>Very Positive</td>\n      <td>92</td>\n      <td>3722</td>\n      <td>14.99</td>\n      <td>14.99</td>\n      <td>0.0</td>\n      <td>True</td>\n    </tr>\n    <tr>\n      <th>3</th>\n      <td>226560</td>\n      <td>Escape Dead Island</td>\n      <td>2014-11-18</td>\n      <td>True</td>\n      <td>False</td>\n      <td>False</td>\n      <td>Mixed</td>\n      <td>61</td>\n      <td>873</td>\n      <td>14.99</td>\n      <td>14.99</td>\n      <td>0.0</td>\n      <td>True</td>\n    </tr>\n    <tr>\n      <th>4</th>\n      <td>249050</td>\n      <td>Dungeon of the ENDLESS™</td>\n      <td>2014-10-27</td>\n      <td>True</td>\n      <td>True</td>\n      <td>False</td>\n      <td>Very Positive</td>\n      <td>88</td>\n      <td>8784</td>\n      <td>11.99</td>\n      <td>11.99</td>\n      <td>0.0</td>\n      <td>True</td>\n    </tr>\n    <tr>\n      <th>5</th>\n      <td>250180</td>\n      <td>METAL SLUG 3</td>\n      <td>2015-09-14</td>\n      <td>True</td>\n      <td>False</td>\n      <td>False</td>\n      <td>Very Positive</td>\n      <td>90</td>\n      <td>5579</td>\n      <td>7.99</td>\n      <td>7.99</td>\n      <td>0.0</td>\n      <td>True</td>\n    </tr>\n    <tr>\n      <th>6</th>\n      <td>253980</td>\n      <td>Enclave</td>\n      <td>2013-10-04</td>\n      <td>True</td>\n      <td>True</td>\n      <td>True</td>\n      <td>Mostly Positive</td>\n      <td>75</td>\n      <td>1608</td>\n      <td>4.99</td>\n      <td>4.99</td>\n      <td>0.0</td>\n      <td>True</td>\n    </tr>\n    <tr>\n      <th>7</th>\n      <td>271850</td>\n      <td>Men of War: Assault Squad 2 - Deluxe Edition u...</td>\n      <td>2014-05-16</td>\n      <td>True</td>\n      <td>False</td>\n      <td>False</td>\n      <td>Mixed</td>\n      <td>61</td>\n      <td>199</td>\n      <td>6.99</td>\n      <td>6.99</td>\n      <td>0.0</td>\n      <td>True</td>\n    </tr>\n    <tr>\n      <th>8</th>\n      <td>282900</td>\n      <td>Hyperdimension Neptunia Re;Birth1</td>\n      <td>2015-01-29</td>\n      <td>True</td>\n      <td>False</td>\n      <td>False</td>\n      <td>Very Positive</td>\n      <td>94</td>\n      <td>9686</td>\n      <td>14.99</td>\n      <td>14.99</td>\n      <td>0.0</td>\n      <td>True</td>\n    </tr>\n    <tr>\n      <th>9</th>\n      <td>19810</td>\n      <td>The Sum of All Fears</td>\n      <td>2008-10-10</td>\n      <td>True</td>\n      <td>False</td>\n      <td>False</td>\n      <td>Mostly Positive</td>\n      <td>75</td>\n      <td>33</td>\n      <td>9.99</td>\n      <td>9.99</td>\n      <td>0.0</td>\n      <td>True</td>\n    </tr>\n    <tr>\n      <th>10</th>\n      <td>15270</td>\n      <td>Cold Fear™</td>\n      <td>2008-05-13</td>\n      <td>True</td>\n      <td>False</td>\n      <td>False</td>\n      <td>Very Positive</td>\n      <td>85</td>\n      <td>800</td>\n      <td>9.99</td>\n      <td>9.99</td>\n      <td>0.0</td>\n      <td>True</td>\n    </tr>\n    <tr>\n      <th>11</th>\n      <td>21130</td>\n      <td>LEGO® Harry Potter: Years 1-4</td>\n      <td>2010-06-25</td>\n      <td>True</td>\n      <td>False</td>\n      <td>False</td>\n      <td>Very Positive</td>\n      <td>85</td>\n      <td>5169</td>\n      <td>19.99</td>\n      <td>19.99</td>\n      <td>0.0</td>\n      <td>True</td>\n    </tr>\n    <tr>\n      <th>12</th>\n      <td>22130</td>\n      <td>Hearts of Iron 2 Complete</td>\n      <td>2009-01-23</td>\n      <td>True</td>\n      <td>False</td>\n      <td>False</td>\n      <td>Very Positive</td>\n      <td>85</td>\n      <td>462</td>\n      <td>14.99</td>\n      <td>14.99</td>\n      <td>0.0</td>\n      <td>True</td>\n    </tr>\n    <tr>\n      <th>13</th>\n      <td>29180</td>\n      <td>Osmos</td>\n      <td>2009-08-18</td>\n      <td>True</td>\n      <td>True</td>\n      <td>True</td>\n      <td>Very Positive</td>\n      <td>88</td>\n      <td>532</td>\n      <td>9.99</td>\n      <td>9.99</td>\n      <td>0.0</td>\n      <td>True</td>\n    </tr>\n    <tr>\n      <th>14</th>\n      <td>32750</td>\n      <td>Comanche 4</td>\n      <td>2009-06-18</td>\n      <td>True</td>\n      <td>False</td>\n      <td>False</td>\n      <td>Very Positive</td>\n      <td>90</td>\n      <td>222</td>\n      <td>9.99</td>\n      <td>9.99</td>\n      <td>0.0</td>\n      <td>True</td>\n    </tr>\n    <tr>\n      <th>15</th>\n      <td>241620</td>\n      <td>Inquisitor</td>\n      <td>2013-08-01</td>\n      <td>True</td>\n      <td>False</td>\n      <td>False</td>\n      <td>Mostly Positive</td>\n      <td>70</td>\n      <td>390</td>\n      <td>9.99</td>\n      <td>9.99</td>\n      <td>0.0</td>\n      <td>True</td>\n    </tr>\n    <tr>\n      <th>16</th>\n      <td>408520</td>\n      <td>FORM</td>\n      <td>2017-06-01</td>\n      <td>True</td>\n      <td>False</td>\n      <td>False</td>\n      <td>Very Positive</td>\n      <td>91</td>\n      <td>934</td>\n      <td>14.99</td>\n      <td>14.99</td>\n      <td>0.0</td>\n      <td>True</td>\n    </tr>\n    <tr>\n      <th>17</th>\n      <td>244910</td>\n      <td>Homesick</td>\n      <td>2015-05-28</td>\n      <td>True</td>\n      <td>False</td>\n      <td>False</td>\n      <td>Mostly Positive</td>\n      <td>77</td>\n      <td>1139</td>\n      <td>14.99</td>\n      <td>14.99</td>\n      <td>0.0</td>\n      <td>True</td>\n    </tr>\n    <tr>\n      <th>18</th>\n      <td>245950</td>\n      <td>Borderlands 2: Headhunter 4: Wedding Day Massacre</td>\n      <td>2014-02-11</td>\n      <td>True</td>\n      <td>True</td>\n      <td>True</td>\n      <td>Very Positive</td>\n      <td>84</td>\n      <td>294</td>\n      <td>0.89</td>\n      <td>2.99</td>\n      <td>70.0</td>\n      <td>True</td>\n    </tr>\n    <tr>\n      <th>19</th>\n      <td>250460</td>\n      <td>Bridge Constructor</td>\n      <td>2013-10-16</td>\n      <td>True</td>\n      <td>True</td>\n      <td>True</td>\n      <td>Mostly Positive</td>\n      <td>77</td>\n      <td>716</td>\n      <td>2.39</td>\n      <td>19.99</td>\n      <td>88.0</td>\n      <td>True</td>\n    </tr>\n    <tr>\n      <th>20</th>\n      <td>278890</td>\n      <td>Angvik</td>\n      <td>2014-02-24</td>\n      <td>True</td>\n      <td>True</td>\n      <td>False</td>\n      <td>Very Positive</td>\n      <td>88</td>\n      <td>1986</td>\n      <td>2.99</td>\n      <td>2.99</td>\n      <td>0.0</td>\n      <td>True</td>\n    </tr>\n    <tr>\n      <th>21</th>\n      <td>305181</td>\n      <td>Sniper Elite 3 - Camouflage Weapons Pack</td>\n      <td>2014-06-27</td>\n      <td>True</td>\n      <td>False</td>\n      <td>False</td>\n      <td>Very Positive</td>\n      <td>95</td>\n      <td>74</td>\n      <td>3.99</td>\n      <td>3.99</td>\n      <td>0.0</td>\n      <td>True</td>\n    </tr>\n    <tr>\n      <th>22</th>\n      <td>312200</td>\n      <td>Chasm</td>\n      <td>2018-07-30</td>\n      <td>True</td>\n      <td>True</td>\n      <td>True</td>\n      <td>Mostly Positive</td>\n      <td>73</td>\n      <td>1065</td>\n      <td>19.99</td>\n      <td>19.99</td>\n      <td>0.0</td>\n      <td>True</td>\n    </tr>\n    <tr>\n      <th>23</th>\n      <td>321290</td>\n      <td>Dandelion - Wishes brought to you -</td>\n      <td>2014-09-29</td>\n      <td>True</td>\n      <td>True</td>\n      <td>False</td>\n      <td>Very Positive</td>\n      <td>85</td>\n      <td>589</td>\n      <td>29.99</td>\n      <td>29.99</td>\n      <td>0.0</td>\n      <td>True</td>\n    </tr>\n    <tr>\n      <th>24</th>\n      <td>329640</td>\n      <td>Eradicator</td>\n      <td>2014-11-06</td>\n      <td>True</td>\n      <td>True</td>\n      <td>True</td>\n      <td>Very Positive</td>\n      <td>88</td>\n      <td>60</td>\n      <td>6.99</td>\n      <td>6.99</td>\n      <td>0.0</td>\n      <td>True</td>\n    </tr>\n    <tr>\n      <th>25</th>\n      <td>367670</td>\n      <td>Controller Companion</td>\n      <td>2015-05-04</td>\n      <td>True</td>\n      <td>False</td>\n      <td>False</td>\n      <td>Very Positive</td>\n      <td>90</td>\n      <td>2323</td>\n      <td>2.99</td>\n      <td>2.99</td>\n      <td>0.0</td>\n      <td>True</td>\n    </tr>\n    <tr>\n      <th>26</th>\n      <td>380810</td>\n      <td>Herald: An Interactive Period Drama - Book I &amp; II</td>\n      <td>2017-02-22</td>\n      <td>True</td>\n      <td>True</td>\n      <td>True</td>\n      <td>Very Positive</td>\n      <td>89</td>\n      <td>97</td>\n      <td>9.99</td>\n      <td>9.99</td>\n      <td>0.0</td>\n      <td>True</td>\n    </tr>\n    <tr>\n      <th>27</th>\n      <td>392330</td>\n      <td>Take Command - 2nd Manassas</td>\n      <td>2016-10-28</td>\n      <td>True</td>\n      <td>False</td>\n      <td>False</td>\n      <td>Very Positive</td>\n      <td>93</td>\n      <td>62</td>\n      <td>9.99</td>\n      <td>9.99</td>\n      <td>0.0</td>\n      <td>True</td>\n    </tr>\n    <tr>\n      <th>28</th>\n      <td>437000</td>\n      <td>GUILTY GEAR 2 -OVERTURE-</td>\n      <td>2016-03-31</td>\n      <td>True</td>\n      <td>False</td>\n      <td>False</td>\n      <td>Mostly Positive</td>\n      <td>71</td>\n      <td>214</td>\n      <td>19.99</td>\n      <td>19.99</td>\n      <td>0.0</td>\n      <td>True</td>\n    </tr>\n    <tr>\n      <th>29</th>\n      <td>445420</td>\n      <td>Aselia the Eternal -The Spirit of Eternity Sword-</td>\n      <td>2016-04-29</td>\n      <td>True</td>\n      <td>False</td>\n      <td>False</td>\n      <td>Very Positive</td>\n      <td>82</td>\n      <td>63</td>\n      <td>14.99</td>\n      <td>14.99</td>\n      <td>0.0</td>\n      <td>True</td>\n    </tr>\n    <tr>\n      <th>30</th>\n      <td>458790</td>\n      <td>The House in Fata Morgana Original Soundtrack</td>\n      <td>2016-05-13</td>\n      <td>False</td>\n      <td>False</td>\n      <td>False</td>\n      <td>Positive</td>\n      <td>100</td>\n      <td>32</td>\n      <td>11.99</td>\n      <td>11.99</td>\n      <td>0.0</td>\n      <td>True</td>\n    </tr>\n    <tr>\n      <th>31</th>\n      <td>462280</td>\n      <td>Offworld Trading Company - Soundtrack DLC</td>\n      <td>2016-04-28</td>\n      <td>True</td>\n      <td>True</td>\n      <td>False</td>\n      <td>Positive</td>\n      <td>80</td>\n      <td>10</td>\n      <td>9.99</td>\n      <td>9.99</td>\n      <td>0.0</td>\n      <td>True</td>\n    </tr>\n    <tr>\n      <th>32</th>\n      <td>1872790</td>\n      <td>Luckitown</td>\n      <td>2022-01-19</td>\n      <td>True</td>\n      <td>True</td>\n      <td>False</td>\n      <td>Very Positive</td>\n      <td>86</td>\n      <td>163</td>\n      <td>4.99</td>\n      <td>4.99</td>\n      <td>0.0</td>\n      <td>True</td>\n    </tr>\n    <tr>\n      <th>33</th>\n      <td>371970</td>\n      <td>Barony</td>\n      <td>2015-06-23</td>\n      <td>True</td>\n      <td>True</td>\n      <td>True</td>\n      <td>Very Positive</td>\n      <td>92</td>\n      <td>3713</td>\n      <td>20.00</td>\n      <td>0.00</td>\n      <td>0.0</td>\n      <td>True</td>\n    </tr>\n    <tr>\n      <th>34</th>\n      <td>222660</td>\n      <td>Retro/Grade</td>\n      <td>2013-03-20</td>\n      <td>True</td>\n      <td>False</td>\n      <td>False</td>\n      <td>Very Positive</td>\n      <td>85</td>\n      <td>207</td>\n      <td>9.99</td>\n      <td>9.99</td>\n      <td>0.0</td>\n      <td>True</td>\n    </tr>\n    <tr>\n      <th>35</th>\n      <td>237850</td>\n      <td>Dreamfall Chapters</td>\n      <td>2017-07-21</td>\n      <td>True</td>\n      <td>True</td>\n      <td>True</td>\n      <td>Very Positive</td>\n      <td>82</td>\n      <td>2976</td>\n      <td>24.99</td>\n      <td>24.99</td>\n      <td>0.0</td>\n      <td>True</td>\n    </tr>\n    <tr>\n      <th>36</th>\n      <td>268220</td>\n      <td>Meltdown</td>\n      <td>2014-06-05</td>\n      <td>True</td>\n      <td>True</td>\n      <td>True</td>\n      <td>Very Positive</td>\n      <td>86</td>\n      <td>493</td>\n      <td>6.99</td>\n      <td>6.99</td>\n      <td>0.0</td>\n      <td>True</td>\n    </tr>\n    <tr>\n      <th>37</th>\n      <td>274270</td>\n      <td>NOT A HERO</td>\n      <td>2016-07-08</td>\n      <td>True</td>\n      <td>True</td>\n      <td>True</td>\n      <td>Very Positive</td>\n      <td>86</td>\n      <td>1563</td>\n      <td>19.99</td>\n      <td>19.99</td>\n      <td>0.0</td>\n      <td>True</td>\n    </tr>\n    <tr>\n      <th>38</th>\n      <td>281450</td>\n      <td>Disciples Sacred Lands Gold</td>\n      <td>2014-10-07</td>\n      <td>True</td>\n      <td>False</td>\n      <td>False</td>\n      <td>Very Positive</td>\n      <td>85</td>\n      <td>270</td>\n      <td>7.99</td>\n      <td>7.99</td>\n      <td>0.0</td>\n      <td>True</td>\n    </tr>\n    <tr>\n      <th>39</th>\n      <td>1259750</td>\n      <td>Tropico 6 - Spitter</td>\n      <td>2020-04-23</td>\n      <td>True</td>\n      <td>True</td>\n      <td>True</td>\n      <td>Mixed</td>\n      <td>58</td>\n      <td>36</td>\n      <td>9.99</td>\n      <td>9.99</td>\n      <td>0.0</td>\n      <td>True</td>\n    </tr>\n    <tr>\n      <th>40</th>\n      <td>296870</td>\n      <td>Dreaming Sarah</td>\n      <td>2015-03-12</td>\n      <td>True</td>\n      <td>False</td>\n      <td>True</td>\n      <td>Very Positive</td>\n      <td>92</td>\n      <td>2010</td>\n      <td>5.99</td>\n      <td>5.99</td>\n      <td>0.0</td>\n      <td>True</td>\n    </tr>\n    <tr>\n      <th>41</th>\n      <td>330180</td>\n      <td>Pix the Cat</td>\n      <td>2015-01-29</td>\n      <td>True</td>\n      <td>True</td>\n      <td>True</td>\n      <td>Very Positive</td>\n      <td>87</td>\n      <td>170</td>\n      <td>4.99</td>\n      <td>4.99</td>\n      <td>0.0</td>\n      <td>True</td>\n    </tr>\n    <tr>\n      <th>42</th>\n      <td>351920</td>\n      <td>Crazy Machines 3</td>\n      <td>2016-10-18</td>\n      <td>True</td>\n      <td>False</td>\n      <td>False</td>\n      <td>Very Positive</td>\n      <td>94</td>\n      <td>6817</td>\n      <td>9.99</td>\n      <td>9.99</td>\n      <td>0.0</td>\n      <td>True</td>\n    </tr>\n    <tr>\n      <th>43</th>\n      <td>397210</td>\n      <td>Kanji Training Game</td>\n      <td>2015-09-23</td>\n      <td>True</td>\n      <td>False</td>\n      <td>False</td>\n      <td>Mostly Positive</td>\n      <td>75</td>\n      <td>72</td>\n      <td>4.99</td>\n      <td>4.99</td>\n      <td>0.0</td>\n      <td>True</td>\n    </tr>\n    <tr>\n      <th>44</th>\n      <td>402130</td>\n      <td>FlatOut 4: Total Insanity</td>\n      <td>2017-04-04</td>\n      <td>True</td>\n      <td>False</td>\n      <td>False</td>\n      <td>Mixed</td>\n      <td>52</td>\n      <td>1489</td>\n      <td>29.99</td>\n      <td>29.99</td>\n      <td>0.0</td>\n      <td>True</td>\n    </tr>\n    <tr>\n      <th>45</th>\n      <td>402710</td>\n      <td>Osiris: New Dawn</td>\n      <td>2023-01-18</td>\n      <td>True</td>\n      <td>False</td>\n      <td>False</td>\n      <td>Mixed</td>\n      <td>57</td>\n      <td>12322</td>\n      <td>19.99</td>\n      <td>19.99</td>\n      <td>0.0</td>\n      <td>True</td>\n    </tr>\n    <tr>\n      <th>46</th>\n      <td>410970</td>\n      <td>Master of Orion 1</td>\n      <td>2016-08-25</td>\n      <td>True</td>\n      <td>True</td>\n      <td>True</td>\n      <td>Very Positive</td>\n      <td>90</td>\n      <td>279</td>\n      <td>0.89</td>\n      <td>5.99</td>\n      <td>85.0</td>\n      <td>True</td>\n    </tr>\n    <tr>\n      <th>47</th>\n      <td>415200</td>\n      <td>Motorsport Manager</td>\n      <td>2016-11-09</td>\n      <td>True</td>\n      <td>True</td>\n      <td>True</td>\n      <td>Very Positive</td>\n      <td>91</td>\n      <td>9753</td>\n      <td>19.99</td>\n      <td>19.99</td>\n      <td>0.0</td>\n      <td>True</td>\n    </tr>\n    <tr>\n      <th>48</th>\n      <td>410770</td>\n      <td>Roads of Rome</td>\n      <td>2015-10-16</td>\n      <td>True</td>\n      <td>False</td>\n      <td>False</td>\n      <td>Very Positive</td>\n      <td>85</td>\n      <td>61</td>\n      <td>3.99</td>\n      <td>3.99</td>\n      <td>0.0</td>\n      <td>True</td>\n    </tr>\n    <tr>\n      <th>49</th>\n      <td>254820</td>\n      <td>Ground Control Anthology</td>\n      <td>2015-07-08</td>\n      <td>True</td>\n      <td>False</td>\n      <td>False</td>\n      <td>Very Positive</td>\n      <td>87</td>\n      <td>141</td>\n      <td>4.99</td>\n      <td>4.99</td>\n      <td>0.0</td>\n      <td>True</td>\n    </tr>\n  </tbody>\n</table>\n</div>"
     },
     "execution_count": 72,
     "metadata": {},
     "output_type": "execute_result"
    }
   ],
   "source": [
    "recommendations = pd.read_csv('./dataset/recommendations_DEMO.csv')\n",
    "users = pd.read_csv('./dataset/users_DEMO.csv')\n",
    "games = pd.read_csv('./dataset/games.csv')\n",
    "games.head(50)"
   ],
   "metadata": {
    "collapsed": false,
    "ExecuteTime": {
     "end_time": "2023-11-29T03:11:11.027250400Z",
     "start_time": "2023-11-29T03:11:10.854248700Z"
    }
   },
   "id": "c7717cfd2db345ed"
  },
  {
   "cell_type": "code",
   "execution_count": 73,
   "outputs": [
    {
     "name": "stdout",
     "output_type": "stream",
     "text": [
      "<class 'pandas.core.frame.DataFrame'>\n",
      "RangeIndex: 10000 entries, 0 to 9999\n",
      "Data columns (total 8 columns):\n",
      " #   Column          Non-Null Count  Dtype  \n",
      "---  ------          --------------  -----  \n",
      " 0   app_id          10000 non-null  int64  \n",
      " 1   helpful         10000 non-null  int64  \n",
      " 2   funny           10000 non-null  int64  \n",
      " 3   date            10000 non-null  object \n",
      " 4   is_recommended  10000 non-null  bool   \n",
      " 5   hours           10000 non-null  float64\n",
      " 6   user_id         10000 non-null  int64  \n",
      " 7   review_id       10000 non-null  int64  \n",
      "dtypes: bool(1), float64(1), int64(5), object(1)\n",
      "memory usage: 556.8+ KB\n"
     ]
    }
   ],
   "source": [
    "recommendations.info()"
   ],
   "metadata": {
    "collapsed": false,
    "ExecuteTime": {
     "end_time": "2023-11-29T03:11:11.083244Z",
     "start_time": "2023-11-29T03:11:11.020247300Z"
    }
   },
   "id": "2a6a6f82cc8cca29"
  },
  {
   "cell_type": "code",
   "execution_count": 74,
   "outputs": [
    {
     "name": "stdout",
     "output_type": "stream",
     "text": [
      "<class 'pandas.core.frame.DataFrame'>\n",
      "RangeIndex: 10000 entries, 0 to 9999\n",
      "Data columns (total 3 columns):\n",
      " #   Column    Non-Null Count  Dtype\n",
      "---  ------    --------------  -----\n",
      " 0   user_id   10000 non-null  int64\n",
      " 1   products  10000 non-null  int64\n",
      " 2   reviews   10000 non-null  int64\n",
      "dtypes: int64(3)\n",
      "memory usage: 234.5 KB\n"
     ]
    }
   ],
   "source": [
    "users.info()"
   ],
   "metadata": {
    "collapsed": false,
    "ExecuteTime": {
     "end_time": "2023-11-29T03:11:11.158257600Z",
     "start_time": "2023-11-29T03:11:11.041246100Z"
    }
   },
   "id": "bd86faaf78a25d30"
  },
  {
   "cell_type": "code",
   "execution_count": 75,
   "outputs": [
    {
     "data": {
      "text/plain": "             app_id       helpful         funny         hours       user_id  \\\ncount  1.000000e+04  10000.000000  10000.000000  10000.000000  1.000000e+04   \nmean   6.233737e+05      3.119000      1.114100    199.301200  6.007807e+06   \nstd    5.137966e+05     47.322861     34.777266    235.063727  3.831733e+06   \nmin    4.400000e+02      0.000000      0.000000      0.000000  2.482000e+03   \n25%    2.557100e+05      0.000000      0.000000     30.075000  2.774264e+06   \n50%    3.943600e+05      0.000000      0.000000     97.350000  5.541098e+06   \n75%    1.091500e+06      0.000000      0.000000    286.725000  9.007588e+06   \nmax    2.208920e+06   3749.000000   3055.000000    999.900000  1.378082e+07   \n\n         review_id  \ncount  10000.00000  \nmean    4999.50000  \nstd     2886.89568  \nmin        0.00000  \n25%     2499.75000  \n50%     4999.50000  \n75%     7499.25000  \nmax     9999.00000  ",
      "text/html": "<div>\n<style scoped>\n    .dataframe tbody tr th:only-of-type {\n        vertical-align: middle;\n    }\n\n    .dataframe tbody tr th {\n        vertical-align: top;\n    }\n\n    .dataframe thead th {\n        text-align: right;\n    }\n</style>\n<table border=\"1\" class=\"dataframe\">\n  <thead>\n    <tr style=\"text-align: right;\">\n      <th></th>\n      <th>app_id</th>\n      <th>helpful</th>\n      <th>funny</th>\n      <th>hours</th>\n      <th>user_id</th>\n      <th>review_id</th>\n    </tr>\n  </thead>\n  <tbody>\n    <tr>\n      <th>count</th>\n      <td>1.000000e+04</td>\n      <td>10000.000000</td>\n      <td>10000.000000</td>\n      <td>10000.000000</td>\n      <td>1.000000e+04</td>\n      <td>10000.00000</td>\n    </tr>\n    <tr>\n      <th>mean</th>\n      <td>6.233737e+05</td>\n      <td>3.119000</td>\n      <td>1.114100</td>\n      <td>199.301200</td>\n      <td>6.007807e+06</td>\n      <td>4999.50000</td>\n    </tr>\n    <tr>\n      <th>std</th>\n      <td>5.137966e+05</td>\n      <td>47.322861</td>\n      <td>34.777266</td>\n      <td>235.063727</td>\n      <td>3.831733e+06</td>\n      <td>2886.89568</td>\n    </tr>\n    <tr>\n      <th>min</th>\n      <td>4.400000e+02</td>\n      <td>0.000000</td>\n      <td>0.000000</td>\n      <td>0.000000</td>\n      <td>2.482000e+03</td>\n      <td>0.00000</td>\n    </tr>\n    <tr>\n      <th>25%</th>\n      <td>2.557100e+05</td>\n      <td>0.000000</td>\n      <td>0.000000</td>\n      <td>30.075000</td>\n      <td>2.774264e+06</td>\n      <td>2499.75000</td>\n    </tr>\n    <tr>\n      <th>50%</th>\n      <td>3.943600e+05</td>\n      <td>0.000000</td>\n      <td>0.000000</td>\n      <td>97.350000</td>\n      <td>5.541098e+06</td>\n      <td>4999.50000</td>\n    </tr>\n    <tr>\n      <th>75%</th>\n      <td>1.091500e+06</td>\n      <td>0.000000</td>\n      <td>0.000000</td>\n      <td>286.725000</td>\n      <td>9.007588e+06</td>\n      <td>7499.25000</td>\n    </tr>\n    <tr>\n      <th>max</th>\n      <td>2.208920e+06</td>\n      <td>3749.000000</td>\n      <td>3055.000000</td>\n      <td>999.900000</td>\n      <td>1.378082e+07</td>\n      <td>9999.00000</td>\n    </tr>\n  </tbody>\n</table>\n</div>"
     },
     "execution_count": 75,
     "metadata": {},
     "output_type": "execute_result"
    }
   ],
   "source": [
    "recommendations.describe()"
   ],
   "metadata": {
    "collapsed": false,
    "ExecuteTime": {
     "end_time": "2023-11-29T03:11:11.192257300Z",
     "start_time": "2023-11-29T03:11:11.068244700Z"
    }
   },
   "id": "ec9ab13c5e75335d"
  },
  {
   "cell_type": "code",
   "execution_count": 76,
   "outputs": [
    {
     "data": {
      "text/plain": "            user_id      products       reviews\ncount  1.000000e+04  10000.000000  10000.000000\nmean   9.599218e+06    287.912400      3.687800\nstd    2.632168e+06    426.043582     10.067386\nmin    8.430000e+02      0.000000      0.000000\n25%    8.369042e+06     84.000000      1.000000\n50%    1.084780e+07    175.000000      1.000000\n75%    1.134348e+07    335.000000      3.000000\nmax    1.378592e+07  10113.000000    553.000000",
      "text/html": "<div>\n<style scoped>\n    .dataframe tbody tr th:only-of-type {\n        vertical-align: middle;\n    }\n\n    .dataframe tbody tr th {\n        vertical-align: top;\n    }\n\n    .dataframe thead th {\n        text-align: right;\n    }\n</style>\n<table border=\"1\" class=\"dataframe\">\n  <thead>\n    <tr style=\"text-align: right;\">\n      <th></th>\n      <th>user_id</th>\n      <th>products</th>\n      <th>reviews</th>\n    </tr>\n  </thead>\n  <tbody>\n    <tr>\n      <th>count</th>\n      <td>1.000000e+04</td>\n      <td>10000.000000</td>\n      <td>10000.000000</td>\n    </tr>\n    <tr>\n      <th>mean</th>\n      <td>9.599218e+06</td>\n      <td>287.912400</td>\n      <td>3.687800</td>\n    </tr>\n    <tr>\n      <th>std</th>\n      <td>2.632168e+06</td>\n      <td>426.043582</td>\n      <td>10.067386</td>\n    </tr>\n    <tr>\n      <th>min</th>\n      <td>8.430000e+02</td>\n      <td>0.000000</td>\n      <td>0.000000</td>\n    </tr>\n    <tr>\n      <th>25%</th>\n      <td>8.369042e+06</td>\n      <td>84.000000</td>\n      <td>1.000000</td>\n    </tr>\n    <tr>\n      <th>50%</th>\n      <td>1.084780e+07</td>\n      <td>175.000000</td>\n      <td>1.000000</td>\n    </tr>\n    <tr>\n      <th>75%</th>\n      <td>1.134348e+07</td>\n      <td>335.000000</td>\n      <td>3.000000</td>\n    </tr>\n    <tr>\n      <th>max</th>\n      <td>1.378592e+07</td>\n      <td>10113.000000</td>\n      <td>553.000000</td>\n    </tr>\n  </tbody>\n</table>\n</div>"
     },
     "execution_count": 76,
     "metadata": {},
     "output_type": "execute_result"
    }
   ],
   "source": [
    "users.describe()"
   ],
   "metadata": {
    "collapsed": false,
    "ExecuteTime": {
     "end_time": "2023-11-29T03:11:11.262258300Z",
     "start_time": "2023-11-29T03:11:11.099244300Z"
    }
   },
   "id": "dbde9262d032cce8"
  },
  {
   "cell_type": "code",
   "execution_count": 77,
   "outputs": [
    {
     "name": "stdout",
     "output_type": "stream",
     "text": [
      "app_id            0\n",
      "helpful           0\n",
      "funny             0\n",
      "date              0\n",
      "is_recommended    0\n",
      "hours             0\n",
      "user_id           0\n",
      "review_id         0\n",
      "dtype: int64\n",
      "user_id     0\n",
      "products    0\n",
      "reviews     0\n",
      "dtype: int64\n"
     ]
    }
   ],
   "source": [
    "recommendations_null = recommendations.isnull().sum()\n",
    "users_null = users.isnull().sum()\n",
    "print(recommendations_null)\n",
    "print(users_null)"
   ],
   "metadata": {
    "collapsed": false,
    "ExecuteTime": {
     "end_time": "2023-11-29T03:11:11.294258300Z",
     "start_time": "2023-11-29T03:11:11.136258100Z"
    }
   },
   "id": "eb1d4b0499d0bae2"
  },
  {
   "cell_type": "code",
   "execution_count": 78,
   "outputs": [
    {
     "data": {
      "text/plain": "<Figure size 432x288 with 1 Axes>",
      "image/png": "[encoded data removed]"
     },
     "metadata": {
      "needs_background": "light"
     },
     "output_type": "display_data"
    }
   ],
   "source": [
    "helpful = recommendations[recommendations['helpful']>0]\n",
    "plt.hist(helpful['helpful'], \n",
    "orientation = 'vertical',\n",
    "histtype = 'bar', color ='red')\n",
    "plt.show()"
   ],
   "metadata": {
    "collapsed": false,
    "ExecuteTime": {
     "end_time": "2023-11-29T03:11:11.393258400Z",
     "start_time": "2023-11-29T03:11:11.147257500Z"
    }
   },
   "id": "581a8beb5a96366d"
  },
  {
   "cell_type": "code",
   "execution_count": 79,
   "outputs": [
    {
     "data": {
      "text/plain": "    app_id  helpful  funny        date  is_recommended  hours  user_id  \\\n0   975370        0      0  2022-12-12               1   36.3    49625   \n1   304390        4      0  2017-02-17               0   11.5     2482   \n2  1085660        2      0  2019-11-17               1  336.5   243409   \n3   703080        0      0  2022-09-23               1   27.4   248701   \n4   526870        0      0  2021-01-10               1    7.9    22902   \n\n   review_id  \n0          0  \n1          1  \n2          2  \n3          3  \n4          4  ",
      "text/html": "<div>\n<style scoped>\n    .dataframe tbody tr th:only-of-type {\n        vertical-align: middle;\n    }\n\n    .dataframe tbody tr th {\n        vertical-align: top;\n    }\n\n    .dataframe thead th {\n        text-align: right;\n    }\n</style>\n<table border=\"1\" class=\"dataframe\">\n  <thead>\n    <tr style=\"text-align: right;\">\n      <th></th>\n      <th>app_id</th>\n      <th>helpful</th>\n      <th>funny</th>\n      <th>date</th>\n      <th>is_recommended</th>\n      <th>hours</th>\n      <th>user_id</th>\n      <th>review_id</th>\n    </tr>\n  </thead>\n  <tbody>\n    <tr>\n      <th>0</th>\n      <td>975370</td>\n      <td>0</td>\n      <td>0</td>\n      <td>2022-12-12</td>\n      <td>1</td>\n      <td>36.3</td>\n      <td>49625</td>\n      <td>0</td>\n    </tr>\n    <tr>\n      <th>1</th>\n      <td>304390</td>\n      <td>4</td>\n      <td>0</td>\n      <td>2017-02-17</td>\n      <td>0</td>\n      <td>11.5</td>\n      <td>2482</td>\n      <td>1</td>\n    </tr>\n    <tr>\n      <th>2</th>\n      <td>1085660</td>\n      <td>2</td>\n      <td>0</td>\n      <td>2019-11-17</td>\n      <td>1</td>\n      <td>336.5</td>\n      <td>243409</td>\n      <td>2</td>\n    </tr>\n    <tr>\n      <th>3</th>\n      <td>703080</td>\n      <td>0</td>\n      <td>0</td>\n      <td>2022-09-23</td>\n      <td>1</td>\n      <td>27.4</td>\n      <td>248701</td>\n      <td>3</td>\n    </tr>\n    <tr>\n      <th>4</th>\n      <td>526870</td>\n      <td>0</td>\n      <td>0</td>\n      <td>2021-01-10</td>\n      <td>1</td>\n      <td>7.9</td>\n      <td>22902</td>\n      <td>4</td>\n    </tr>\n  </tbody>\n</table>\n</div>"
     },
     "execution_count": 79,
     "metadata": {},
     "output_type": "execute_result"
    }
   ],
   "source": [
    "recommendations['is_recommended'].replace(True,1,inplace=True)\n",
    "recommendations['is_recommended'].replace(False,0,inplace=True)\n",
    "recommendations.head(5)"
   ],
   "metadata": {
    "collapsed": false,
    "ExecuteTime": {
     "end_time": "2023-11-29T03:11:11.411260200Z",
     "start_time": "2023-11-29T03:11:11.289258600Z"
    }
   },
   "id": "351333184d4c8d23"
  },
  {
   "cell_type": "code",
   "execution_count": 82,
   "outputs": [
    {
     "name": "stdout",
     "output_type": "stream",
     "text": [
      "<class 'pandas.core.frame.DataFrame'>\n",
      "RangeIndex: 10000 entries, 0 to 9999\n",
      "Data columns (total 4 columns):\n",
      " #   Column          Non-Null Count  Dtype  \n",
      "---  ------          --------------  -----  \n",
      " 0   helpful         10000 non-null  int64  \n",
      " 1   funny           10000 non-null  int64  \n",
      " 2   hours           10000 non-null  float64\n",
      " 3   is_recommended  10000 non-null  int32  \n",
      "dtypes: float64(1), int32(1), int64(2)\n",
      "memory usage: 273.6 KB\n"
     ]
    }
   ],
   "source": [
    "rec_numeric_index = ['helpful',\t'funny', 'hours', 'is_recommended']\n",
    "recommendations_numeric = recommendations[rec_numeric_index]\n",
    "recommendations_numeric['is_recommended'] = recommendations_numeric['is_recommended'].astype(int)\n",
    "recommendations_numeric.info()"
   ],
   "metadata": {
    "collapsed": false,
    "ExecuteTime": {
     "end_time": "2023-11-29T03:11:23.704887400Z",
     "start_time": "2023-11-29T03:11:23.661888400Z"
    }
   },
   "id": "dbd8826aa7cb4ebd"
  },
  {
   "cell_type": "code",
   "execution_count": 83,
   "outputs": [
    {
     "data": {
      "text/plain": "<AxesSubplot:>"
     },
     "execution_count": 83,
     "metadata": {},
     "output_type": "execute_result"
    },
    {
     "data": {
      "text/plain": "<Figure size 432x288 with 2 Axes>",
      "image/png": "[encoded data removed]"
     },
     "metadata": {
      "needs_background": "light"
     },
     "output_type": "display_data"
    }
   ],
   "source": [
    "correlation = recommendations_numeric.corr()\n",
    "sns.heatmap(correlation,square = True,  vmax=0.8)"
   ],
   "metadata": {
    "collapsed": false,
    "ExecuteTime": {
     "end_time": "2023-11-29T03:11:24.808383600Z",
     "start_time": "2023-11-29T03:11:24.654013600Z"
    }
   },
   "id": "544dfdb1f5deb9a3"
  },
  {
   "cell_type": "code",
   "execution_count": 81,
   "outputs": [],
   "source": [],
   "metadata": {
    "collapsed": false,
    "ExecuteTime": {
     "end_time": "2023-11-29T03:11:11.594257800Z",
     "start_time": "2023-11-29T03:11:11.519259600Z"
    }
   },
   "id": "c5adc756731f7050"
  }
 ],
 "metadata": {
  "kernelspec": {
   "display_name": "Python 3",
   "language": "python",
   "name": "python3"
  },
  "language_info": {
   "codemirror_mode": {
    "name": "ipython",
    "version": 2
   },
   "file_extension": ".py",
   "mimetype": "text/x-python",
   "name": "python",
   "nbconvert_exporter": "python",
   "pygments_lexer": "ipython2",
   "version": "2.7.6"
  }
 },
 "nbformat": 4,
 "nbformat_minor": 5
}
