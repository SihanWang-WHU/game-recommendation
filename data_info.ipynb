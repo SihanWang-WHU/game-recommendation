{
 "cells": [
  {
   "cell_type": "code",
   "execution_count": 4,
   "id": "initial_id",
   "metadata": {
    "collapsed": true,
    "ExecuteTime": {
     "end_time": "2023-11-29T02:26:27.634945800Z",
     "start_time": "2023-11-29T02:26:27.599947700Z"
    }
   },
   "outputs": [],
   "source": [
    "import pandas as pd\n",
    "file_path = './dataset/users.csv'\n",
    "df = pd.read_csv(file_path, nrows=10000)\n",
    "new_file_path = './dataset/users_DEMO.csv'\n",
    "df.to_csv(new_file_path, index=False)"
   ]
  },
  {
   "cell_type": "code",
   "execution_count": 2,
   "outputs": [],
   "source": [
    "import pandas as pd\n",
    "import numpy as np\n",
    "import scipy.stats as st\n",
    "import missingno as msno"
   ],
   "metadata": {
    "collapsed": false,
    "ExecuteTime": {
     "end_time": "2023-11-29T00:28:50.459990200Z",
     "start_time": "2023-11-29T00:28:45.913398700Z"
    }
   },
   "id": "6b6e671145e54fd2"
  },
  {
   "cell_type": "code",
   "execution_count": 3,
   "outputs": [
    {
     "name": "stdout",
     "output_type": "stream",
     "text": [
      "<class 'pandas.core.frame.DataFrame'>\n",
      "RangeIndex: 10000 entries, 0 to 9999\n",
      "Data columns (total 16 columns):\n",
      " #   Column             Non-Null Count  Dtype \n",
      "---  ------             --------------  ----- \n",
      " 0   video_id           10000 non-null  object\n",
      " 1   title              10000 non-null  object\n",
      " 2   publishedAt        10000 non-null  object\n",
      " 3   channelId          10000 non-null  object\n",
      " 4   channelTitle       10000 non-null  object\n",
      " 5   categoryId         10000 non-null  int64 \n",
      " 6   trending_date      10000 non-null  object\n",
      " 7   tags               10000 non-null  object\n",
      " 8   view_count         10000 non-null  int64 \n",
      " 9   likes              10000 non-null  int64 \n",
      " 10  dislikes           10000 non-null  int64 \n",
      " 11  comment_count      10000 non-null  int64 \n",
      " 12  thumbnail_link     10000 non-null  object\n",
      " 13  comments_disabled  10000 non-null  bool  \n",
      " 14  ratings_disabled   10000 non-null  bool  \n",
      " 15  description        9943 non-null   object\n",
      "dtypes: bool(2), int64(5), object(9)\n",
      "memory usage: 1.1+ MB\n"
     ]
    }
   ],
   "source": [
    "df = pd.read_csv('./YouTube Trending Video Dataset/US_youtube_trending_data_DEMO.csv')\n",
    "df.info()"
   ],
   "metadata": {
    "collapsed": false,
    "ExecuteTime": {
     "end_time": "2023-11-29T00:28:50.702986600Z",
     "start_time": "2023-11-29T00:28:50.460988600Z"
    }
   },
   "id": "c7717cfd2db345ed"
  },
  {
   "cell_type": "code",
   "execution_count": 4,
   "outputs": [
    {
     "data": {
      "text/plain": "         categoryId    view_count         likes       dislikes  comment_count\ncount  10000.000000  1.000000e+04  1.000000e+04   10000.000000   1.000000e+04\nmean      18.388200  2.596377e+06  1.633156e+05    4831.915600   2.134631e+04\nstd        7.272234  8.176035e+06  6.004797e+05   31404.444852   1.882170e+05\nmin        1.000000  4.469300e+04  0.000000e+00       0.000000   0.000000e+00\n25%       10.000000  4.318678e+05  1.777925e+04     347.000000   1.838750e+03\n50%       20.000000  9.294565e+05  4.428500e+04     833.000000   4.050000e+03\n75%       24.000000  2.081017e+06  1.227812e+05    2517.000000   1.025950e+04\nmax       29.000000  2.326492e+08  1.573553e+07  879354.000000   6.065230e+06",
      "text/html": "<div>\n<style scoped>\n    .dataframe tbody tr th:only-of-type {\n        vertical-align: middle;\n    }\n\n    .dataframe tbody tr th {\n        vertical-align: top;\n    }\n\n    .dataframe thead th {\n        text-align: right;\n    }\n</style>\n<table border=\"1\" class=\"dataframe\">\n  <thead>\n    <tr style=\"text-align: right;\">\n      <th></th>\n      <th>categoryId</th>\n      <th>view_count</th>\n      <th>likes</th>\n      <th>dislikes</th>\n      <th>comment_count</th>\n    </tr>\n  </thead>\n  <tbody>\n    <tr>\n      <th>count</th>\n      <td>10000.000000</td>\n      <td>1.000000e+04</td>\n      <td>1.000000e+04</td>\n      <td>10000.000000</td>\n      <td>1.000000e+04</td>\n    </tr>\n    <tr>\n      <th>mean</th>\n      <td>18.388200</td>\n      <td>2.596377e+06</td>\n      <td>1.633156e+05</td>\n      <td>4831.915600</td>\n      <td>2.134631e+04</td>\n    </tr>\n    <tr>\n      <th>std</th>\n      <td>7.272234</td>\n      <td>8.176035e+06</td>\n      <td>6.004797e+05</td>\n      <td>31404.444852</td>\n      <td>1.882170e+05</td>\n    </tr>\n    <tr>\n      <th>min</th>\n      <td>1.000000</td>\n      <td>4.469300e+04</td>\n      <td>0.000000e+00</td>\n      <td>0.000000</td>\n      <td>0.000000e+00</td>\n    </tr>\n    <tr>\n      <th>25%</th>\n      <td>10.000000</td>\n      <td>4.318678e+05</td>\n      <td>1.777925e+04</td>\n      <td>347.000000</td>\n      <td>1.838750e+03</td>\n    </tr>\n    <tr>\n      <th>50%</th>\n      <td>20.000000</td>\n      <td>9.294565e+05</td>\n      <td>4.428500e+04</td>\n      <td>833.000000</td>\n      <td>4.050000e+03</td>\n    </tr>\n    <tr>\n      <th>75%</th>\n      <td>24.000000</td>\n      <td>2.081017e+06</td>\n      <td>1.227812e+05</td>\n      <td>2517.000000</td>\n      <td>1.025950e+04</td>\n    </tr>\n    <tr>\n      <th>max</th>\n      <td>29.000000</td>\n      <td>2.326492e+08</td>\n      <td>1.573553e+07</td>\n      <td>879354.000000</td>\n      <td>6.065230e+06</td>\n    </tr>\n  </tbody>\n</table>\n</div>"
     },
     "execution_count": 4,
     "metadata": {},
     "output_type": "execute_result"
    }
   ],
   "source": [
    "df.describe()"
   ],
   "metadata": {
    "collapsed": false,
    "ExecuteTime": {
     "end_time": "2023-11-29T02:17:20.578228100Z",
     "start_time": "2023-11-29T02:17:20.487229400Z"
    }
   },
   "id": "ec9ab13c5e75335d"
  },
  {
   "cell_type": "code",
   "execution_count": 5,
   "outputs": [
    {
     "data": {
      "text/plain": "<AxesSubplot:>"
     },
     "execution_count": 5,
     "metadata": {},
     "output_type": "execute_result"
    },
    {
     "data": {
      "text/plain": "<Figure size 432x288 with 1 Axes>",
      "image/png": "[encoded data removed]"
     },
     "metadata": {
      "needs_background": "light"
     },
     "output_type": "display_data"
    }
   ],
   "source": [
    "miss_train = df.isnull().sum()\n",
    "miss_train = miss_train[miss_train>0]\n",
    "miss_train.sort_values(inplace=True)\n",
    "miss_train.plot.bar()"
   ],
   "metadata": {
    "collapsed": false,
    "ExecuteTime": {
     "end_time": "2023-11-29T02:17:58.826660Z",
     "start_time": "2023-11-29T02:17:58.632660Z"
    }
   },
   "id": "eb1d4b0499d0bae2"
  },
  {
   "cell_type": "code",
   "execution_count": null,
   "outputs": [],
   "source": [],
   "metadata": {
    "collapsed": false
   },
   "id": "581a8beb5a96366d"
  }
 ],
 "metadata": {
  "kernelspec": {
   "display_name": "Python 3",
   "language": "python",
   "name": "python3"
  },
  "language_info": {
   "codemirror_mode": {
    "name": "ipython",
    "version": 2
   },
   "file_extension": ".py",
   "mimetype": "text/x-python",
   "name": "python",
   "nbconvert_exporter": "python",
   "pygments_lexer": "ipython2",
   "version": "2.7.6"
  }
 },
 "nbformat": 4,
 "nbformat_minor": 5
}
